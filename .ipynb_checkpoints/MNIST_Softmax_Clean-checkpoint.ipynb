{
 "cells": [
  {
   "cell_type": "code",
   "execution_count": 1,
   "metadata": {
    "scrolled": true
   },
   "outputs": [],
   "source": [
    "import tensorflow as tf\n",
    "from random import sample\n",
    "from matplotlib.pyplot import imshow\n",
    "import matplotlib as plt\n",
    "import numpy as np"
   ]
  },
  {
   "cell_type": "code",
   "execution_count": 2,
   "metadata": {},
   "outputs": [],
   "source": [
    "#Data Input Pipeline\n",
    "nClass = 10\n",
    "mnist = tf.keras.datasets.mnist\n",
    "(x_train, y_train),(x_test, y_test) = mnist.load_data()\n",
    "x_train, x_test = x_train / 255.0, x_test / 255.0\n",
    "x_train_flat = x_train.reshape(x_train.shape[0],-1).T\n",
    "x_test_flat = x_test.reshape(x_test.shape[0],-1).T\n",
    "y_train_onehot = np.eye(nClass)[y_train].T\n",
    "y_test_onehot = np.eye(nClass)[y_test].T"
   ]
  },
  {
   "cell_type": "code",
   "execution_count": 3,
   "metadata": {},
   "outputs": [],
   "source": [
    "#Hyperparameters\n",
    "\n",
    "nHidden = [256, 64]\n",
    "learning_rate = 0.01\n",
    "nMiniBatch = 128\n",
    "nIter = 10000"
   ]
  },
  {
   "cell_type": "code",
   "execution_count": 4,
   "metadata": {},
   "outputs": [
    {
     "name": "stdout",
     "output_type": "stream",
     "text": [
      "Layers:  [784, 256, 64, 10]\n",
      "Learning Rate:  0.01\n",
      "Number of MiniBatch:  128\n"
     ]
    }
   ],
   "source": [
    "nInput = [784]\n",
    "nOutput = [nClass]\n",
    "layers = nInput + nHidden + nOutput\n",
    "limit = 0.0001\n",
    "print(\"Layers: \", layers)\n",
    "print(\"Learning Rate: \", learning_rate)\n",
    "print(\"Number of MiniBatch: \", nMiniBatch)"
   ]
  },
  {
   "cell_type": "code",
   "execution_count": 5,
   "metadata": {},
   "outputs": [],
   "source": [
    "def save_mnist10():\n",
    "    np.save('y_10input_onehot',  y_train_onehot[:,[1,3,5,7,9,11,13,15,17,19]])  \n",
    "    np.save('x_10input_flat',  x_train_flat[:,[1,3,5,7,9,11,13,15,17,19]])\n",
    "    np.save('y_10test_onehot',  y_test_onehot[:,[3,2,1,18,4,8,11,0,61,7]])  \n",
    "    np.save('x_10test_flat',  x_test_flat[:,[3,2,1,18,4,8,11,0,61,7]] )\n",
    "    \n",
    "def load_mnist10():\n",
    "    x_train_flat = np.load(\"x_10input_flat.npy\")\n",
    "    y_train_onehot = np.load(\"y_10input_onehot.npy\")\n",
    "    y_test_onehot = np.load('y_10test_onehot.npy')\n",
    "    x_test_flat = np.load('x_10test_flat.npy')\n",
    "    return x_train_flat, y_train_onehot, y_test_onehot, x_test_flat\n",
    "\n",
    "def initialize(self, initializer = 'random'):\n",
    "        W = []\n",
    "        b = []\n",
    "        for i in range(len(self.layers)-1):\n",
    "            W.append(np.random.rand(self.layers[i+1],self.layers[i])*0.02)\n",
    "            b.append(np.random.rand(self.layers[i+1],1))\n",
    "            assert(W[i].shape == (self.layers[i+1], self.layers[i]))\n",
    "            assert(b[i].shape == (self.layers[i+1], 1))\n",
    "        self.parameters['W'] = W\n",
    "        self.parameters['b'] = b\n",
    "        \n",
    "def sigma(x):\n",
    "    return 1.0 / (1 + np.exp(-x))\n",
    "def relu(x):\n",
    "    return np.maximum(0,x)\n",
    "\n",
    "def forwardProptrain(self):\n",
    "    self.act=[]\n",
    "    self.act.append(self.train_data)\n",
    "    for i in range(len(self.layers)-2):\n",
    "        z = np.dot(self.parameters['W'][i], self.act[-1])\n",
    "        self.act.append(relu(z + self.parameters['b'][i]))  #relu\n",
    "    self.act.append(softmax(np.dot(self.parameters['W'][len(self.layers)-2], self.act[-1])))\n",
    "\n",
    "def forwardProptest(self):\n",
    "    self.act=[]\n",
    "    self.act.append(self.test_data)\n",
    "    for i in range(len(self.layers)-2):\n",
    "        z = np.dot(self.parameters['W'][i], self.act[-1])\n",
    "        self.act.append(relu(z + self.parameters['b'][i]))  #relu\n",
    "    self.act.append(softmax(np.dot(self.parameters['W'][len(self.layers)-2], self.act[-1])))\n",
    "    \n",
    "    \n",
    "def compCosttrain(self):\n",
    "    interm = np.dot(np.log(self.act[-1]).T,self.y_train_onehot)\n",
    "    cost = -1.0/self.y_train_onehot.shape[1]*np.sum(np.trace(interm))\n",
    "    return cost\n",
    "    \n",
    "def compCosttest(self):\n",
    "    interm = np.dot(np.log(self.act[-1]).T,self.y_train_onehot)\n",
    "    cost = -1.0/self.y_train_onehot.shape[1]*np.sum(np.trace(interm))\n",
    "    return cost\n",
    "    \n",
    "def softmax(x):\n",
    "    \"\"\"Compute softmax values for each sets of scores in x.\"\"\"\n",
    "    e_x = np.exp(x - np.max(x))\n",
    "    return e_x / e_x.sum(axis=0)\n",
    "\n",
    "def backProp(self):\n",
    "    dZ = self.act[-1] - self.y_train_onehot\n",
    "    m = self.y_train_onehot.shape[1]\n",
    "    dW = 1.0/m * np.dot(dZ, self.act[-2].T)\n",
    "    db = 1.0/m * np.dot(dZ, self.act[-2].T)\n",
    "    dA_prev = np.dot(self.parameters['W'][-1].T, dZ)\n",
    "    self.parameters['W'][-1] = self.parameters['W'][-1] - learning_rate*dW\n",
    "    self.parameters['b'][-1] = self.parameters['b'][-1] - learning_rate*db\n",
    "    \n",
    "    for i in reversed(range(len(self.layers)-2)):\n",
    "        dA = dA_prev \n",
    "        dZ = linear_activation_backward(dA,self.act[i+1],\"relu\")\n",
    "        dW = 1.0/m * np.dot(dZ, self.act[i].T)\n",
    "        db = 1.0/m*  np.sum(np.array(dZ),axis=1,keepdims=True)\n",
    "        dA_prev = np.dot(self.parameters['W'][i].T, dZ)\n",
    "        self.parameters['W'][i] = self.parameters['W'][i] - learning_rate*dW\n",
    "        self.parameters['b'][i] = self.parameters['b'][i] - learning_rate*db\n",
    "\n",
    "def linear_activation_backward(dA,cache,activation):\n",
    "    if(activation==\"sigmoid\"):\n",
    "        act =  cache \n",
    "        return np.multiply(np.multiply(dA, act), 1-act)\n",
    "    if(activation==\"relu\"):\n",
    "        act = cache\n",
    "        act[act>0] = 1\n",
    "        act[act<0] = 0\n",
    "        return np.multiply(dA, act)\n",
    "\n",
    "def check_accuracy_train():\n",
    "    y = test.tdy\n",
    "    test.train_data = test.tdx[:,]\n",
    "    test.y_train_onehot = test.tdy[:,:100]\n",
    "    m = y.shape[1]\n",
    "    forwardProptrain(test)\n",
    "    y_hat = np.argmax(test.act[-1], axis = 0)\n",
    "    pred = y_hat\n",
    "    exp = np.argmax(y, axis = 0)\n",
    "    error = np.sum(exp!=pred)\n",
    "    # Calculate accuracy\n",
    "    return (m - error)/m * 100\n",
    "\n",
    "\n",
    "def check_accuracy():\n",
    "    y = test.tdy\n",
    "    tstx = test.train_data\n",
    "    tsty = test.y_train_onehot\n",
    "    test.train_data = test.tdx[:,]\n",
    "    test.y_train_onehot = test.tdy[:,100]\n",
    "    m = y.shape[1]\n",
    "    forwardProptrain(test)\n",
    "    y_hat = np.argmax(test.act[-1], axis = 0)\n",
    "    pred = y_hat\n",
    "    exp = np.argmax(y, axis = 0)\n",
    "    error = np.sum(exp!=pred)\n",
    "    test.train_data = tstx\n",
    "    test.y_train_onehot = tsty\n",
    "    # Calculate accuracy\n",
    "    return (m - error)/m * 100\n",
    "\n",
    "def check_accuracy_test():\n",
    "    mat = np.zeros([10,10])\n",
    "    y = test.y_test_onehot\n",
    "    test.train_data = test.test_data[:,]\n",
    "    test.y_train_onehot = test.y_test_onehot[:,:100]\n",
    "    m = y.shape[1]\n",
    "    forwardProptrain(test)\n",
    "    y_hat = np.argmax(test.act[-1], axis = 0)\n",
    "    pred = y_hat\n",
    "    exp = np.argmax(y, axis = 0)\n",
    "    p = exp!=pred\n",
    "    error = np.sum(exp!=pred)\n",
    "    for i in range(m):\n",
    "        mat[exp[i]][pred[i]] =  mat[exp[i]][pred[i]] + 1\n",
    "    # Calculate accuracy\n",
    "    return (m - error)/m * 100, mat"
   ]
  },
  {
   "cell_type": "code",
   "execution_count": 6,
   "metadata": {},
   "outputs": [],
   "source": [
    "save_mnist10()"
   ]
  },
  {
   "cell_type": "code",
   "execution_count": 7,
   "metadata": {},
   "outputs": [],
   "source": [
    "#x_train_flat, y_train_onehot, y_test_onehot, x_test_flat = load_mnist10()"
   ]
  },
  {
   "cell_type": "code",
   "execution_count": 8,
   "metadata": {},
   "outputs": [],
   "source": [
    "class deepfuzzy:\n",
    "    W = []\n",
    "    b = []\n",
    "    parameters = dict()\n",
    "    act = []\n",
    "    def __init__(self, layers, test_data, train_data, y_train_onehot, y_test_onehot, no_of_examples, iterations):\n",
    "        self.layers = layers\n",
    "        self.test_data = test_data\n",
    "        self.tdx = train_data\n",
    "        self.tdy = y_train_onehot\n",
    "        self.batch = no_of_examples\n",
    "        self.train_data = train_data[:, :no_of_examples]\n",
    "        self.y_train_onehot = y_train_onehot[:,:no_of_examples]\n",
    "        self.y_test_onehot = y_test_onehot\n",
    "        self.iter = iterations\n",
    "        initialize(self, 'random')        \n",
    "    def train(self):\n",
    "        for i in range(self.iter):\n",
    "                if(i%2==0):\n",
    "                    idx = np.random.randint(self.tdx.shape[1], size=self.batch)\n",
    "                    self.train_data = np.array(self.tdx[:,idx])\n",
    "                    self.y_train_onehot = self.tdy[:,idx]\n",
    "                forwardProptrain(self)\n",
    "                compCosttrain(self)\n",
    "                backProp(self)\n",
    "                if(i%100 == 0):\n",
    "                    print(\"Accuracy: \", check_accuracy())\n",
    "                    self.saveWeights()\n",
    "    def test(self):\n",
    "        forwardProptest(self)\n",
    "        compCosttest(self)\n",
    "    def saveWeights(self):\n",
    "        np.save('W',self.parameters['W'])\n",
    "        np.save('b',self.parameters['b'])\n",
    "    def load(self):\n",
    "        W = np.load('W.npy')\n",
    "        b = np.load('b.npy')\n",
    "        self.parameters['W'] = W\n",
    "        self.parameters['b'] = b"
   ]
  },
  {
   "cell_type": "code",
   "execution_count": 9,
   "metadata": {
    "scrolled": false
   },
   "outputs": [],
   "source": [
    "test = deepfuzzy(layers,x_test_flat,x_train_flat,y_train_onehot,y_test_onehot, nMiniBatch, iterations = nIter)\n"
   ]
  },
  {
   "cell_type": "code",
   "execution_count": null,
   "metadata": {
    "scrolled": true
   },
   "outputs": [
    {
     "name": "stdout",
     "output_type": "stream",
     "text": [
      "Accuracy:  9.736666666666666\n",
      "Accuracy:  9.871666666666666\n",
      "Accuracy:  10.248333333333333\n",
      "Accuracy:  12.44\n",
      "Accuracy:  9.915000000000001\n",
      "Accuracy:  18.621666666666666\n",
      "Accuracy:  19.078333333333333\n",
      "Accuracy:  24.761666666666667\n",
      "Accuracy:  25.643333333333334\n",
      "Accuracy:  26.328333333333333\n",
      "Accuracy:  27.089999999999996\n",
      "Accuracy:  28.03833333333333\n",
      "Accuracy:  32.10166666666667\n",
      "Accuracy:  33.01\n",
      "Accuracy:  34.0\n",
      "Accuracy:  32.266666666666666\n",
      "Accuracy:  33.22833333333333\n",
      "Accuracy:  34.74166666666667\n",
      "Accuracy:  35.373333333333335\n",
      "Accuracy:  36.083333333333336\n",
      "Accuracy:  37.72333333333333\n",
      "Accuracy:  37.75\n",
      "Accuracy:  36.24666666666666\n",
      "Accuracy:  36.44833333333333\n",
      "Accuracy:  36.163333333333334\n",
      "Accuracy:  37.196666666666665\n",
      "Accuracy:  37.663333333333334\n",
      "Accuracy:  38.656666666666666\n",
      "Accuracy:  39.513333333333335\n",
      "Accuracy:  39.791666666666664\n",
      "Accuracy:  39.501666666666665\n",
      "Accuracy:  39.891666666666666\n",
      "Accuracy:  40.050000000000004\n",
      "Accuracy:  41.473333333333336\n"
     ]
    }
   ],
   "source": [
    "#test.load()\n",
    "test.train()"
   ]
  },
  {
   "cell_type": "code",
   "execution_count": 282,
   "metadata": {},
   "outputs": [
    {
     "name": "stdout",
     "output_type": "stream",
     "text": [
      "Train Accuracy:  74.57000000000001\n"
     ]
    }
   ],
   "source": [
    "train_acc = check_accuracy_train()\n",
    "print(\"Train Accuracy: \", train_acc)"
   ]
  },
  {
   "cell_type": "code",
   "execution_count": 284,
   "metadata": {},
   "outputs": [
    {
     "name": "stdout",
     "output_type": "stream",
     "text": [
      "Test Accuracy:  74.64\n",
      "Confusion Matrix: \n",
      "[[ 864    0    3   16    0   80   15    0    2    0]\n",
      " [   0 1080   13   10    0    1    0   13   18    0]\n",
      " [  40    2  760   82   27    5   22    3   76   15]\n",
      " [  19    7   19  836    1   50    0   25   51    2]\n",
      " [   0    2    4    0  738    1   44   23    7  163]\n",
      " [  79    1   23  171   11  531   21   11   30   14]\n",
      " [  53    2   54    0   53   18  772    0    5    1]\n",
      " [   0   41   14   13    2   23    1  835   43   56]\n",
      " [  26    5  100  161   19   60    8   26  547   22]\n",
      " [   4    6    3   10  194   23    3  249   16  501]]\n"
     ]
    }
   ],
   "source": [
    "acc, conf_mat = check_accuracy_test()\n",
    "print(\"Test Accuracy: \", acc)\n",
    "print(\"Confusion Matrix: \")\n",
    "print(conf_mat.astype(int))"
   ]
  },
  {
   "cell_type": "code",
   "execution_count": null,
   "metadata": {},
   "outputs": [],
   "source": []
  }
 ],
 "metadata": {
  "kernelspec": {
   "display_name": "Python 3",
   "language": "python",
   "name": "python3"
  },
  "language_info": {
   "codemirror_mode": {
    "name": "ipython",
    "version": 3
   },
   "file_extension": ".py",
   "mimetype": "text/x-python",
   "name": "python",
   "nbconvert_exporter": "python",
   "pygments_lexer": "ipython3",
   "version": "3.5.2"
  }
 },
 "nbformat": 4,
 "nbformat_minor": 2
}
