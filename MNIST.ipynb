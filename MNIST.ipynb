{
 "cells": [
  {
   "cell_type": "code",
   "execution_count": 1,
   "metadata": {},
   "outputs": [],
   "source": [
    "#Data Input Pipeline\n",
    "import numpy as np\n",
    "import tensorflow as tf\n",
    "mnist = tf.keras.datasets.mnist\n",
    "\n",
    "(x_train, y_train),(x_test, y_test) = mnist.load_data()\n",
    "x_train, x_test = x_train / 255.0, x_test / 255.0"
   ]
  },
  {
   "cell_type": "code",
   "execution_count": 2,
   "metadata": {},
   "outputs": [],
   "source": [
    "#Data Made suitable for input\n",
    "nClass = 10\n",
    "x_train_flat = x_train.reshape(x_train.shape[0],-1).T\n",
    "x_test_flat = x_test.reshape(x_test.shape[0],-1).T\n",
    "y_train_onehot = np.eye(nClass)[y_train]\n",
    "y_test_onehot = np.eye(nClass)[y_test]"
   ]
  },
  {
   "cell_type": "code",
   "execution_count": 3,
   "metadata": {},
   "outputs": [],
   "source": [
    "#\"#Define\"\n",
    "# Dataset must be of shape - [no of features, no of examples]\n",
    "nY = nClass\n",
    "nH = [50]\n",
    "nX = x_train_flat.shape[0]\n",
    "m_train = x_train_flat.shape[1]"
   ]
  },
  {
   "cell_type": "code",
   "execution_count": 1,
   "metadata": {},
   "outputs": [],
   "source": [
    "#Define Activation Functions\n",
    "def sigmoid(Z):\n",
    "    A = 1/(1+np.exp(-Z))\n",
    "    return A\n",
    "\n",
    "def relu(Z):\n",
    "    A = np.maximum(0,Z)\n",
    "    return A"
   ]
  },
  {
   "cell_type": "code",
   "execution_count": null,
   "metadata": {},
   "outputs": [],
   "source": []
  },
  {
   "cell_type": "code",
   "execution_count": 4,
   "metadata": {},
   "outputs": [
    {
     "data": {
      "text/plain": [
       "(784, 60000)"
      ]
     },
     "execution_count": 4,
     "metadata": {},
     "output_type": "execute_result"
    }
   ],
   "source": [
    "x_train_flat.shape"
   ]
  },
  {
   "cell_type": "code",
   "execution_count": 5,
   "metadata": {},
   "outputs": [
    {
     "name": "stdout",
     "output_type": "stream",
     "text": [
      "(50, 784)\n"
     ]
    }
   ],
   "source": [
    "# Weight must be of shape - WL -> [n[l] , n[l-1]]\n",
    "# Bias must be of shape - BL -> [n[l] , 1]\n",
    "W1 = np.random.randn(nH[0], nX)\n",
    "print(W1.shape)\n",
    "b1 = np.random.randn(nH[0],1)\n",
    "Z1 = np.dot(W1, x_train_flat) + b1\n",
    "labels_mat = np.random.randn(x_train.shape[0])"
   ]
  },
  {
   "cell_type": "code",
   "execution_count": 6,
   "metadata": {},
   "outputs": [],
   "source": [
    "# Make a function to initialize parameters for any number of layers\n",
    "def initialize(layers=[]):\n",
    "    W = []\n",
    "    b = []\n",
    "    parameters = dict()\n",
    "    for i in range(len(layers)-1):\n",
    "        W.append(np.random.randn(layers[i+1],layers[i]))\n",
    "        b.append(np.random.randn(nH[0],1))\n",
    "    parameters['W'] = W\n",
    "    parameters['b'] = b\n",
    "    return parameters"
   ]
  },
  {
   "cell_type": "code",
   "execution_count": 2,
   "metadata": {},
   "outputs": [],
   "source": [
    "def forwardProp(A,W,b, activation = 'sigmoid'):\n",
    "    Z = np.dot(W,A) + b\n",
    "    if activation == 'sigmoid':\n",
    "        A_next = sigmoid(Z)\n",
    "    if activation == 'relu':\n",
    "        A_next = relu(Z)\n",
    "    return A_next\n",
    "\n",
    "def "
   ]
  },
  {
   "cell_type": "code",
   "execution_count": 8,
   "metadata": {},
   "outputs": [],
   "source": [
    "#Make function to save parameters\n",
    "def saveParam(parameters):\n",
    "    pass\n",
    "    #add codes here\n",
    "    "
   ]
  },
  {
   "cell_type": "code",
   "execution_count": 2,
   "metadata": {},
   "outputs": [],
   "source": [
    "class deepfuzzy:\n",
    "    W = []\n",
    "    b = []\n",
    "    def __init__(layers, test_data, train_data):\n",
    "        self.layers = layers\n",
    "        self.test_data = test_data\n",
    "        self.train_data = train_data\n",
    "    def initialize(self, initializer = 'random'):\n",
    "        parameters = dict()\n",
    "        for i in range(len(layers)-1):\n",
    "            W.append(np.random.randn(layers[i+1],layers[i]))\n",
    "            b.append(np.random.randn(nH[0],1))\n",
    "        parameters['W'] = W\n",
    "        parameters['b'] = b\n",
    "        return parameters\n",
    "    def saveWeights(iterGap):\n",
    "        pass\n",
    "    def loadWeights():\n",
    "        pass\n",
    "    def forwardProp():\n",
    "        pass\n",
    "    def backProp(loss, opt):\n",
    "        pass\n",
    "        \n",
    "        "
   ]
  },
  {
   "cell_type": "code",
   "execution_count": null,
   "metadata": {},
   "outputs": [],
   "source": []
  }
 ],
 "metadata": {
  "kernelspec": {
   "display_name": "Python 3",
   "language": "python",
   "name": "python3"
  },
  "language_info": {
   "codemirror_mode": {
    "name": "ipython",
    "version": 3
   },
   "file_extension": ".py",
   "mimetype": "text/x-python",
   "name": "python",
   "nbconvert_exporter": "python",
   "pygments_lexer": "ipython3",
   "version": "3.5.2"
  }
 },
 "nbformat": 4,
 "nbformat_minor": 2
}
