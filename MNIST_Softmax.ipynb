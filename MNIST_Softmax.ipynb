{
 "cells": [
  {
   "cell_type": "code",
   "execution_count": 47,
   "metadata": {
    "scrolled": true
   },
   "outputs": [],
   "source": [
    "#Data Input Pipeline\n",
    "import numpy as np\n",
    "import tensorflow as tf\n",
    "mnist = tf.keras.datasets.mnist\n",
    "from random import sample\n",
    "from matplotlib.pyplot import imshow\n",
    "import matplotlib as plt\n",
    "\n",
    "(x_train, y_train),(x_test, y_test) = mnist.load_data()\n",
    "x_train, x_test = x_train / 255.0, x_test / 255.0"
   ]
  },
  {
   "cell_type": "code",
   "execution_count": 48,
   "metadata": {},
   "outputs": [
    {
     "data": {
      "text/plain": [
       "(60000, 28, 28)"
      ]
     },
     "execution_count": 48,
     "metadata": {},
     "output_type": "execute_result"
    }
   ],
   "source": [
    "x_train.shape"
   ]
  },
  {
   "cell_type": "code",
   "execution_count": 49,
   "metadata": {},
   "outputs": [],
   "source": [
    "#Data Made suitable for input\n",
    "nClass = 10\n",
    "nH = [256, 64]\n",
    "nY = [10]\n",
    "x_train_flat = x_train.reshape(x_train.shape[0],-1).T\n",
    "x_test_flat = x_test.reshape(x_test.shape[0],-1).T\n",
    "y_train_onehot = np.eye(nClass)[y_train].T\n",
    "y_test_onehot = np.eye(nClass)[y_test].T\n",
    "\n",
    "# x_train_flat = x_train_flat[:, :100]\n",
    "# y_train_onehot = y_train_onehot[:, :100]\n",
    "\n",
    "# x_test_flat = x_test_flat[:, :100]\n",
    "# y_test_onehot = y_test_onehot[:, :100]\n",
    "\n",
    "layers = nH + nY\n",
    "limit = 0.0001\n",
    "learning_rate = 0.0001"
   ]
  },
  {
   "cell_type": "code",
   "execution_count": 50,
   "metadata": {},
   "outputs": [
    {
     "data": {
      "text/plain": [
       "(10, 60000)"
      ]
     },
     "execution_count": 50,
     "metadata": {},
     "output_type": "execute_result"
    }
   ],
   "source": [
    "y_train_onehot.shape"
   ]
  },
  {
   "cell_type": "code",
   "execution_count": 51,
   "metadata": {
    "scrolled": true
   },
   "outputs": [
    {
     "data": {
      "text/plain": [
       "(784, 60000)"
      ]
     },
     "execution_count": 51,
     "metadata": {},
     "output_type": "execute_result"
    }
   ],
   "source": [
    "x_train_flat.shape\n"
   ]
  },
  {
   "cell_type": "code",
   "execution_count": 52,
   "metadata": {},
   "outputs": [],
   "source": [
    "np.save('y_10input_onehot',  y_train_onehot[:,[1,3,5,7,9,11,13,15,17,19]])  \n",
    "np.save('x_10input_flat',  x_train_flat[:,[1,3,5,7,9,11,13,15,17,19]])\n",
    "np.save('y_10test_onehot',  y_test_onehot[:,[3,2,1,18,4,8,11,0,61,7]])  \n",
    "np.save('x_10test_flat',  x_test_flat[:,[3,2,1,18,4,8,11,0,61,7]] )"
   ]
  },
  {
   "cell_type": "code",
   "execution_count": 53,
   "metadata": {},
   "outputs": [],
   "source": [
    "def load_mnist10():\n",
    "    x_train_flat = np.load(\"x_10input_flat.npy\")\n",
    "    y_train_onehot = np.load(\"y_10input_onehot.npy\")\n",
    "    y_test_onehot = np.load('y_10test_onehot.npy')\n",
    "    x_test_flat = np.load('x_10test_flat.npy')\n",
    "    return x_train_flat, y_train_onehot, y_test_onehot, x_test_flat"
   ]
  },
  {
   "cell_type": "code",
   "execution_count": 54,
   "metadata": {},
   "outputs": [],
   "source": [
    "#\"#Define\",\n",
    "# Dataset must be of shape - [no of features, no of examples]\n",
    "nY = nClass\n",
    "nH = [50]     #neurons\n",
    "nX = x_train_flat.shape[0]\n",
    "m_train = x_train_flat.shape[1]\n",
    "# x_train_flat, y_train_onehot, y_test_onehot, x_test_flat = load_mnist10()"
   ]
  },
  {
   "cell_type": "code",
   "execution_count": 55,
   "metadata": {},
   "outputs": [
    {
     "data": {
      "text/plain": [
       "(784, 60000)"
      ]
     },
     "execution_count": 55,
     "metadata": {},
     "output_type": "execute_result"
    }
   ],
   "source": [
    "x_train_flat.shape"
   ]
  },
  {
   "cell_type": "code",
   "execution_count": 56,
   "metadata": {},
   "outputs": [
    {
     "data": {
      "text/plain": [
       "array([[0., 0., 0., ..., 0., 0., 0.],\n",
       "       [0., 0., 0., ..., 0., 0., 0.],\n",
       "       [0., 0., 0., ..., 0., 0., 0.],\n",
       "       ...,\n",
       "       [0., 0., 0., ..., 0., 0., 0.],\n",
       "       [0., 0., 0., ..., 0., 0., 0.],\n",
       "       [0., 0., 0., ..., 0., 0., 0.]])"
      ]
     },
     "execution_count": 56,
     "metadata": {},
     "output_type": "execute_result"
    }
   ],
   "source": [
    "x_train_flat"
   ]
  },
  {
   "cell_type": "code",
   "execution_count": 57,
   "metadata": {},
   "outputs": [],
   "source": [
    "class deepfuzzy:\n",
    "    W = []\n",
    "    b = []\n",
    "    parameters = dict()\n",
    "    act = []\n",
    "    def __init__(self, layers, test_data, train_data, y_train_onehot, y_test_onehot, no_of_examples, iterations):\n",
    "        self.layers = layers\n",
    "        self.test_data = test_data\n",
    "        self.tdx = train_data\n",
    "        self.tdy = y_train_onehot\n",
    "        self.batch = no_of_examples\n",
    "        self.train_data = train_data[:, :no_of_examples]\n",
    "        #print(self.train_data.shape)\n",
    "        print(\"train_data\",self.train_data.shape)\n",
    "        self.y_train_onehot = y_train_onehot[:,:no_of_examples]\n",
    "        self.y_test_onehot = y_test_onehot\n",
    "        print(\"train_onehot\",self.y_train_onehot.shape)\n",
    "        self.iter = iterations\n",
    "        initialize(self, 'random')\n",
    "    def train(self):\n",
    "        for i in range(self.iter):\n",
    "                if(i%2==0):\n",
    "                    idx = np.random.randint(self.tdx.shape[1], size=self.batch)\n",
    "                    self.train_data = np.array(self.tdx[:,idx])\n",
    "                    self.y_train_onehot = self.tdy[:,idx]\n",
    "#                     print(self.train_data)\n",
    "                forwardProptrain(self)\n",
    "                compCosttrain(self)\n",
    "                #print(self.act[-1])\n",
    "                #print(self.y_train_onehot)\n",
    "                backProp(self)\n",
    "#                 if(i%100 == 0):\n",
    "#                     self.saveWeights()\n",
    "    def test(self):\n",
    "        forwardProptest(self)\n",
    "        compCosttest(self)\n",
    "    def saveWeights(self):\n",
    "        np.save('W.npy',  self.parameters['W'])  \n",
    "        np.save('b.npy', self.parameters['b'])\n",
    "        my_dict_back = np.load('my_dict.npy')\n",
    "        \n",
    "    def loadWeights(self):\n",
    "        self.W = np.load('W.npy')\n",
    "        self.b = np.load('b.npy')\n",
    "    \n",
    "    def backProp(loss, opt):\n",
    "        pass\n",
    "        \n",
    "        "
   ]
  },
  {
   "cell_type": "code",
   "execution_count": 58,
   "metadata": {},
   "outputs": [],
   "source": [
    "def initialize(self, initializer = 'random'):\n",
    "        #parameters = dict()\n",
    "        W = []\n",
    "        b = []\n",
    "        #np.random.seed(1)\n",
    "        for i in range(len(self.layers)-1):\n",
    "            W.append(np.random.rand(self.layers[i+1],self.layers[i])*0.02)\n",
    "            b.append(np.random.rand(self.layers[i+1],1))\n",
    "            assert(W[i].shape == (self.layers[i+1], self.layers[i]))\n",
    "            assert(b[i].shape == (self.layers[i+1], 1))\n",
    "            \n",
    "        self.parameters['W'] = W\n",
    "        self.parameters['b'] = b\n",
    "    \n",
    "        #print(\"w\", W)\n",
    "        #print(\"b\", self.parameters['b'][1].shape)"
   ]
  },
  {
   "cell_type": "code",
   "execution_count": 59,
   "metadata": {},
   "outputs": [],
   "source": [
    "def sigma(x):\n",
    "    return 1.0 / (1 + np.exp(-x))\n",
    "\n",
    "def relu(x):\n",
    "    return np.maximum(0,x)"
   ]
  },
  {
   "cell_type": "code",
   "execution_count": 60,
   "metadata": {},
   "outputs": [],
   "source": [
    "def forwardProptrain(self):\n",
    "    self.act=[]\n",
    "    self.act.append(self.train_data)\n",
    "    for i in range(len(self.layers)-2):\n",
    "        z = np.dot(self.parameters['W'][i], self.act[-1])\n",
    "        #print(\"z\",z)\n",
    "        #print(\"self.parameter[b]\", self.parameters['b'][i].shape)\n",
    "        self.act.append(relu(z + self.parameters['b'][i]))  #relu\n",
    "    self.act.append(softmax(np.dot(self.parameters['W'][len(self.layers)-2], self.act[-1])))\n",
    "#     print(\"final_layer = \", self.act[-1])"
   ]
  },
  {
   "cell_type": "code",
   "execution_count": 61,
   "metadata": {},
   "outputs": [],
   "source": [
    "def forwardProptest(self):\n",
    "    self.act=[]\n",
    "    self.act.append(self.test_data)\n",
    "    for i in range(len(self.layers)-2):\n",
    "        z = np.dot(self.parameters['W'][i], self.act[-1])\n",
    "        #print(\"z\",z)\n",
    "        #print(\"self.parameter[b]\", self.parameters['b'][i].shape)\n",
    "        self.act.append(relu(z + self.parameters['b'][i]))  #relu\n",
    "    self.act.append(softmax(np.dot(self.parameters['W'][len(self.layers)-2], self.act[-1])))\n",
    "#     print(\"final_layer = \", self.act[-1])"
   ]
  },
  {
   "cell_type": "code",
   "execution_count": 62,
   "metadata": {},
   "outputs": [],
   "source": [
    "def compCosttrain(self):\n",
    "    #print(\"y-train-oneshots_shape \", self.y_train_onehot.shape, self.act[-1].T)\n",
    "    #print((1-self.y_train_onehot),np.log(1-self.act[-1]).T)\n",
    "    interm = np.dot(np.log(self.act[-1]).T,self.y_train_onehot)\n",
    "#     print(\"interm.shape = \", interm.shape)\n",
    "    cost = -1.0/self.y_train_onehot.shape[1]*np.sum(np.trace(interm))\n",
    "    print(cost)\n",
    "#     print(\"expected = \", self.y_train_onehot)\n",
    "#     print(\"got = \", self.act[-1])"
   ]
  },
  {
   "cell_type": "code",
   "execution_count": 63,
   "metadata": {},
   "outputs": [],
   "source": [
    "def compCosttest(self):\n",
    "    #print(\"y-train-oneshots_shape \", self.y_train_onehot.shape, self.act[-1].T)\n",
    "    #print((1-self.y_train_onehot),np.log(1-self.act[-1]).T)\n",
    "    interm = np.dot(np.log(self.act[-1]).T,self.y_train_onehot)\n",
    "#     print(\"interm.shape = \", interm.shape)\n",
    "    cost = -1.0/self.y_train_onehot.shape[1]*np.sum(np.trace(interm))\n",
    "    print(cost)"
   ]
  },
  {
   "cell_type": "code",
   "execution_count": 64,
   "metadata": {},
   "outputs": [],
   "source": [
    "\n",
    "def softmax(x):\n",
    "    \"\"\"Compute softmax values for each sets of scores in x.\"\"\"\n",
    "    e_x = np.exp(x - np.max(x))\n",
    "    return e_x / e_x.sum(axis=0)"
   ]
  },
  {
   "cell_type": "code",
   "execution_count": 65,
   "metadata": {},
   "outputs": [],
   "source": [
    "def backProp(self):\n",
    "    dZ = self.act[-1] - self.y_train_onehot\n",
    "    m = self.y_train_onehot.shape[1]\n",
    "    dW = 1.0/m * np.dot(dZ, self.act[-2].T)\n",
    "    db = 1.0/m * np.dot(dZ, self.act[-2].T)\n",
    "#     dAL = -np.divide(self.y_train_onehot, self.act[-1])+np.divide(1-self.y_train_onehot, 1-self.act[-1])\n",
    "    \n",
    "    dA_prev = np.dot(self.parameters['W'][-1].T, dZ)\n",
    "    self.parameters['W'][-1] = self.parameters['W'][-1] - learning_rate*dW\n",
    "    self.parameters['b'][-1] = self.parameters['b'][-1] - learning_rate*db\n",
    "    \n",
    "    for i in reversed(range(len(self.layers)-2)):\n",
    "        dA = dA_prev \n",
    "        dZ = linear_activation_backward(dA,self.act[i+1],\"relu\")\n",
    "        #print(\"dZ\",dZ)\n",
    "        dW = 1.0/m * np.dot(dZ, self.act[i].T)\n",
    "        #print(\"dW\",dW)\n",
    "        db = 1.0/m*  np.sum(np.array(dZ),axis=1,keepdims=True)\n",
    "#         print(\"db\",db.shape)\n",
    "        #print(\"m\",m)\n",
    "        dA_prev = np.dot(self.parameters['W'][i].T, dZ)\n",
    "        self.parameters['W'][i] = self.parameters['W'][i] - learning_rate*dW\n",
    "        self.parameters['b'][i] = self.parameters['b'][i] - learning_rate*db\n",
    "        "
   ]
  },
  {
   "cell_type": "code",
   "execution_count": 66,
   "metadata": {},
   "outputs": [],
   "source": [
    "def linear_activation_backward(dA,cache,activation):\n",
    "    if(activation==\"sigmoid\"):\n",
    "        act =  cache \n",
    "        #print(\"dA\",dA)\n",
    "        #print(\"cache\", cache)\n",
    "        #return dA*act*(1-act)\n",
    "        return np.multiply(np.multiply(dA, act), 1-act)\n",
    "    if(activation==\"relu\"):\n",
    "        act = cache\n",
    "        act[act>0] = 1\n",
    "        act[act<0] = 0\n",
    "        return np.multiply(dA, act)"
   ]
  },
  {
   "cell_type": "code",
   "execution_count": 67,
   "metadata": {},
   "outputs": [],
   "source": [
    "def check_accuracy_train():\n",
    "    y = test.tdy\n",
    "    test.train_data = test.tdx[:,]\n",
    "    test.y_train_onehot = test.tdy[:,:100]\n",
    "#     imshow(test.train_data[:,1].reshape(28,28))\n",
    "    \n",
    "#     print(test.train_data[:,0])\n",
    "    print(test.y_train_onehot[:,:5])\n",
    "    m = y.shape[1]\n",
    "    forwardProptrain(test)\n",
    "    print(\"test.act[1] = \",test.act[1][:,:5])\n",
    "    print(\"shape = \", test.act[1][:,0].shape)\n",
    "    print((test.act[1][:,0]==1).all())\n",
    "#     imshow(test.act[1][:,0].reshape(50,50))\n",
    "#     imshow(test.parameters['W'][1])\n",
    "    \n",
    "#     print(test.act[-1])\n",
    "    y_hat = np.argmax(test.act[-1], axis = 0)\n",
    "#     print(\"hat = \",y_hat)\n",
    "#     print(\"y = \",y)\n",
    "    pred = y_hat\n",
    "    exp = np.argmax(y, axis = 0)\n",
    "    error = np.sum(exp!=pred)\n",
    "    # Calculate accuracy\n",
    "    return (m - error)/m * 100"
   ]
  },
  {
   "cell_type": "code",
   "execution_count": 68,
   "metadata": {},
   "outputs": [],
   "source": [
    "mat = np.zeros([10,10])\n",
    "def check_accuracy_test():\n",
    "    y = test.y_test_onehot\n",
    "    test.train_data = test.test_data[:,]\n",
    "    test.y_train_onehot = test.y_test_onehot[:,:100]\n",
    "#     imshow(test.train_data[:,1].reshape(28,28))\n",
    "    \n",
    "#     print(test.train_data[:,0])\n",
    "    print(test.y_train_onehot)\n",
    "    m = y.shape[1]\n",
    "    print(m)\n",
    "    forwardProptrain(test)\n",
    "#     print(\"test.act[1] = \",test.act[1][:,:5])\n",
    "#     print(\"shape = \", test.act[1][:,0].shape)\n",
    "#     print((test.act[1][:,0]==1).all())\n",
    "#     imshow(test.act[1][:,0].reshape(50,50))\n",
    "#     imshow(test.parameters['W'][1])\n",
    "    \n",
    "#     print(test.act[-1].shape)\n",
    "    y_hat = np.argmax(test.act[-1], axis = 0)\n",
    "    \n",
    "#     print(\"hat = \",y_hat)\n",
    "#     print(\"y = \",y)\n",
    "    pred = y_hat\n",
    "    exp = np.argmax(y, axis = 0)\n",
    "    p = exp!=pred\n",
    "#     print(p)\n",
    "    error = np.sum(exp!=pred)\n",
    "    for i in range(m):\n",
    "        mat[exp[i]][pred[i]] =  mat[exp[i]][pred[i]] + 1\n",
    "    # Calculate accuracy\n",
    "    return (m - error)/m * 100"
   ]
  },
  {
   "cell_type": "code",
   "execution_count": 69,
   "metadata": {
    "scrolled": false
   },
   "outputs": [
    {
     "name": "stdout",
     "output_type": "stream",
     "text": [
      "train_data (784, 128)\n",
      "train_onehot (10, 128)\n",
      "[[1. 1. 1. 1. 1.]\n",
      " [0. 0. 0. 0. 0.]\n",
      " [0. 0. 0. 0. 0.]\n",
      " [0. 0. 0. 0. 0.]\n",
      " [0. 0. 0. 0. 0.]\n",
      " [0. 0. 0. 0. 0.]\n",
      " [0. 0. 0. 0. 0.]\n",
      " [0. 0. 0. 0. 0.]\n",
      " [0. 0. 0. 0. 0.]\n",
      " [0. 0. 0. 0. 0.]]\n"
     ]
    }
   ],
   "source": [
    "y_train_onehot1 = y_train_onehot[:,[1]*5]\n",
    "test = deepfuzzy([784,800,10],x_test_flat,x_train_flat,y_train_onehot,y_test_onehot, 128, 100000)\n",
    "print(y_train_onehot1)"
   ]
  },
  {
   "cell_type": "code",
   "execution_count": null,
   "metadata": {
    "scrolled": true
   },
   "outputs": [],
   "source": [
    "learning_rate = 0.01\n",
    "test.train()"
   ]
  },
  {
   "cell_type": "code",
   "execution_count": null,
   "metadata": {
    "scrolled": false
   },
   "outputs": [],
   "source": []
  },
  {
   "cell_type": "code",
   "execution_count": null,
   "metadata": {},
   "outputs": [],
   "source": []
  },
  {
   "cell_type": "code",
   "execution_count": null,
   "metadata": {},
   "outputs": [],
   "source": [
    "x = np.array([[1,2], [3,4], [5,6]])\n",
    "np.argmax(x, axis=0)"
   ]
  },
  {
   "cell_type": "code",
   "execution_count": null,
   "metadata": {},
   "outputs": [],
   "source": [
    "#check\n",
    "print(test.train_data.shape)\n",
    "plt.figure(0)\n",
    "imshow(test.train_data[:,0].reshape(28,28))\n",
    "plt.figure(1)\n",
    "imshow(test.train_data[:,1].reshape(28,28))\n",
    "print(\"W = \", test.parameters['W'])\n",
    "z = np.dot(test.parameters['W'][0], test.train_data)+test.parameters['b'][0]\n",
    "plt.figure(2)\n",
    "imshow(z[:,0].reshape(50,50))\n",
    "\n",
    "a0 = sigma(z)\n",
    "print(z[:,0])\n",
    "print(z.shape, a0.shape)\n",
    "plt.figure(3)\n",
    "print(\"here \", (a0[:,0]==1).all())\n",
    "imshow(a0[:,0].reshape(50,50))"
   ]
  },
  {
   "cell_type": "code",
   "execution_count": 97,
   "metadata": {},
   "outputs": [
    {
     "ename": "ValueError",
     "evalue": "operands could not be broadcast together with shapes (10,100) (10,500) ",
     "output_type": "error",
     "traceback": [
      "\u001b[0;31m---------------------------------------------------------------------------\u001b[0m",
      "\u001b[0;31mValueError\u001b[0m                                Traceback (most recent call last)",
      "\u001b[0;32m<ipython-input-97-314267e293fb>\u001b[0m in \u001b[0;36m<module>\u001b[0;34m()\u001b[0m\n\u001b[0;32m----> 1\u001b[0;31m \u001b[0mtest\u001b[0m\u001b[0;34m.\u001b[0m\u001b[0mtest\u001b[0m\u001b[0;34m(\u001b[0m\u001b[0;34m)\u001b[0m\u001b[0;34m\u001b[0m\u001b[0m\n\u001b[0m",
      "\u001b[0;32m<ipython-input-23-76651bd9fdf2>\u001b[0m in \u001b[0;36mtest\u001b[0;34m(self)\u001b[0m\n\u001b[1;32m     33\u001b[0m \u001b[0;31m#                     self.saveWeights()\u001b[0m\u001b[0;34m\u001b[0m\u001b[0;34m\u001b[0m\u001b[0m\n\u001b[1;32m     34\u001b[0m     \u001b[0;32mdef\u001b[0m \u001b[0mtest\u001b[0m\u001b[0;34m(\u001b[0m\u001b[0mself\u001b[0m\u001b[0;34m)\u001b[0m\u001b[0;34m:\u001b[0m\u001b[0;34m\u001b[0m\u001b[0m\n\u001b[0;32m---> 35\u001b[0;31m         \u001b[0mforwardProptest\u001b[0m\u001b[0;34m(\u001b[0m\u001b[0mself\u001b[0m\u001b[0;34m)\u001b[0m\u001b[0;34m\u001b[0m\u001b[0m\n\u001b[0m\u001b[1;32m     36\u001b[0m         \u001b[0mcompCosttest\u001b[0m\u001b[0;34m(\u001b[0m\u001b[0mself\u001b[0m\u001b[0;34m)\u001b[0m\u001b[0;34m\u001b[0m\u001b[0m\n\u001b[1;32m     37\u001b[0m     \u001b[0;32mdef\u001b[0m \u001b[0msaveWeights\u001b[0m\u001b[0;34m(\u001b[0m\u001b[0mself\u001b[0m\u001b[0;34m)\u001b[0m\u001b[0;34m:\u001b[0m\u001b[0;34m\u001b[0m\u001b[0m\n",
      "\u001b[0;32m<ipython-input-70-72f9d4d005bb>\u001b[0m in \u001b[0;36mforwardProptest\u001b[0;34m(self)\u001b[0m\n\u001b[1;32m      6\u001b[0m         \u001b[0;31m#print(\"z\",z)\u001b[0m\u001b[0;34m\u001b[0m\u001b[0;34m\u001b[0m\u001b[0m\n\u001b[1;32m      7\u001b[0m         \u001b[0;31m#print(\"self.parameter[b]\", self.parameters['b'][i].shape)\u001b[0m\u001b[0;34m\u001b[0m\u001b[0;34m\u001b[0m\u001b[0m\n\u001b[0;32m----> 8\u001b[0;31m         \u001b[0mself\u001b[0m\u001b[0;34m.\u001b[0m\u001b[0mact\u001b[0m\u001b[0;34m.\u001b[0m\u001b[0mappend\u001b[0m\u001b[0;34m(\u001b[0m\u001b[0msigma\u001b[0m\u001b[0;34m(\u001b[0m\u001b[0mz\u001b[0m \u001b[0;34m+\u001b[0m \u001b[0mself\u001b[0m\u001b[0;34m.\u001b[0m\u001b[0mparameters\u001b[0m\u001b[0;34m[\u001b[0m\u001b[0;34m'b'\u001b[0m\u001b[0;34m]\u001b[0m\u001b[0;34m[\u001b[0m\u001b[0mi\u001b[0m\u001b[0;34m]\u001b[0m\u001b[0;34m)\u001b[0m\u001b[0;34m)\u001b[0m  \u001b[0;31m#sigmoid\u001b[0m\u001b[0;34m\u001b[0m\u001b[0m\n\u001b[0m",
      "\u001b[0;31mValueError\u001b[0m: operands could not be broadcast together with shapes (10,100) (10,500) "
     ]
    }
   ],
   "source": [
    "test.test()"
   ]
  },
  {
   "cell_type": "code",
   "execution_count": 78,
   "metadata": {},
   "outputs": [
    {
     "data": {
      "text/plain": [
       "array([0, 0, 0, 0, 0, 0, 0, 0, 0, 0, 0])"
      ]
     },
     "execution_count": 78,
     "metadata": {},
     "output_type": "execute_result"
    }
   ],
   "source": [
    "np.argmax([[1,2,4,3,5,6,2,7,8,4,5],[1,2,4,3,5,6,2,7,8,4,5]],axis = 0)"
   ]
  },
  {
   "cell_type": "code",
   "execution_count": 27,
   "metadata": {},
   "outputs": [],
   "source": [
    "np.set_printoptions(precision=4,\n",
    "                       threshold=10000,\n",
    "                       linewidth=150)"
   ]
  },
  {
   "cell_type": "code",
   "execution_count": 56,
   "metadata": {},
   "outputs": [
    {
     "data": {
      "text/plain": [
       "array([[1., 0., 0., 0., 0., 0., 0., 0., 0., 0.],\n",
       "       [0., 0., 0., 0., 0., 1., 0., 0., 0., 0.],\n",
       "       [0., 0., 0., 0., 0., 0., 0., 0., 1., 0.],\n",
       "       [0., 0., 1., 0., 0., 0., 0., 0., 0., 0.],\n",
       "       [0., 0., 0., 0., 1., 0., 0., 0., 0., 0.],\n",
       "       [1., 0., 0., 0., 0., 0., 0., 0., 0., 0.],\n",
       "       [1., 0., 0., 0., 0., 0., 0., 0., 0., 0.],\n",
       "       [0., 0., 0., 0., 0., 0., 0., 1., 0., 0.],\n",
       "       [0., 0., 1., 0., 0., 0., 0., 0., 0., 0.],\n",
       "       [0., 0., 1., 0., 0., 0., 0., 0., 0., 0.]])"
      ]
     },
     "execution_count": 56,
     "metadata": {},
     "output_type": "execute_result"
    }
   ],
   "source": [
    "mat"
   ]
  },
  {
   "cell_type": "code",
   "execution_count": null,
   "metadata": {},
   "outputs": [],
   "source": []
  }
 ],
 "metadata": {
  "kernelspec": {
   "display_name": "Python 3",
   "language": "python",
   "name": "python3"
  },
  "language_info": {
   "codemirror_mode": {
    "name": "ipython",
    "version": 3
   },
   "file_extension": ".py",
   "mimetype": "text/x-python",
   "name": "python",
   "nbconvert_exporter": "python",
   "pygments_lexer": "ipython3",
   "version": "3.5.2"
  }
 },
 "nbformat": 4,
 "nbformat_minor": 2
}
