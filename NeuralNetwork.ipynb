{
 "cells": [
  {
   "cell_type": "code",
   "execution_count": 1,
   "metadata": {
    "scrolled": true
   },
   "outputs": [],
   "source": [
    "import tensorflow.keras.datasets as datasets\n",
    "from random import sample\n",
    "from matplotlib.pyplot import imshow\n",
    "import matplotlib as plt\n",
    "import numpy as np"
   ]
  },
  {
   "cell_type": "code",
   "execution_count": 2,
   "metadata": {},
   "outputs": [
    {
     "name": "stdout",
     "output_type": "stream",
     "text": [
      "Layers:  [784, 256, 64, 10]\n",
      "Learning Rate:  0.01\n",
      "Number of MiniBatch:  128\n"
     ]
    }
   ],
   "source": [
    "#Data Input Pipeline\n",
    "nClass = 10\n",
    "nHidden = [256, 64]\n",
    "learning_rate = 0.01\n",
    "nMiniBatch = 128\n",
    "nIter = 10000\n",
    "nInput = [784]\n",
    "nOutput = [nClass]\n",
    "layers = nInput + nHidden + nOutput\n",
    "limit = 0.0001\n",
    "print(\"Layers: \", layers)\n",
    "print(\"Learning Rate: \", learning_rate)\n",
    "print(\"Number of MiniBatch: \", nMiniBatch)"
   ]
  },
  {
   "cell_type": "code",
   "execution_count": 3,
   "metadata": {},
   "outputs": [],
   "source": [
    "#-------data input -----------------------------#\n",
    "\n",
    "mnist = datasets.mnist\n",
    "(x_train, y_train),(x_test, y_test) = mnist.load_data()\n",
    "x_train, x_test = x_train / 255.0, x_test / 255.0\n",
    "x_train_flat = x_train.reshape(x_train.shape[0],-1).T\n",
    "x_test_flat = x_test.reshape(x_test.shape[0],-1).T\n",
    "y_train_onehot = np.eye(nClass)[y_train].T\n",
    "y_test_onehot = np.eye(nClass)[y_test].T"
   ]
  },
  {
   "cell_type": "code",
   "execution_count": 40,
   "metadata": {},
   "outputs": [],
   "source": [
    "# def save_mnist10():\n",
    "#     np.save('y_10input_onehot',  y_train_onehot[:,[1,3,5,7,9,11,13,15,17,19]])  \n",
    "#     np.save('x_10input_flat',  x_train_flat[:,[1,3,5,7,9,11,13,15,17,19]])\n",
    "#     np.save('y_10test_onehot',  y_test_onehot[:,[3,2,1,18,4,8,11,0,61,7]])  \n",
    "#     np.save('x_10test_flat',  x_test_flat[:,[3,2,1,18,4,8,11,0,61,7]] )\n",
    "    \n",
    "# def load_mnist10():\n",
    "#     x_train_flat = np.load(\"x_10input_flat.npy\")\n",
    "#     y_train_onehot = np.load(\"y_10input_onehot.npy\")\n",
    "#     y_test_onehot = np.load('y_10test_onehot.npy')\n",
    "#     x_test_flat = np.load('x_10test_flat.npy')\n",
    "#     return x_train_flat, y_train_onehot, y_test_onehot, x_test_flat\n",
    "\n",
    "def initialize(self, initializer = 'random'):\n",
    "        W = []\n",
    "        b = []\n",
    "        for i in range(len(self.layers)-1):\n",
    "            W.append(np.random.rand(self.layers[i+1],self.layers[i])*0.02)\n",
    "            b.append(np.random.rand(self.layers[i+1],1))\n",
    "            assert(W[i].shape == (self.layers[i+1], self.layers[i]))\n",
    "            assert(b[i].shape == (self.layers[i+1], 1))\n",
    "        self.parameters['W'] = W\n",
    "        self.parameters['b'] = b\n",
    "        \n",
    "def sigma(x):\n",
    "    return 1.0 / (1 + np.exp(-x))\n",
    "\n",
    "def relu(x):\n",
    "    return np.maximum(0,x)\n",
    "\n",
    "def forwardProptrain(self):\n",
    "    self.act=[]\n",
    "    self.act.append(self.train_data)\n",
    "    for i in range(len(self.layers)-2):\n",
    "        z = np.dot(self.parameters['W'][i], self.act[-1])\n",
    "        self.act.append(relu(z + self.parameters['b'][i]))  #relu\n",
    "    self.act.append(softmax(np.dot(self.parameters['W'][len(self.layers)-2], self.act[-1])))\n",
    "\n",
    "def forwardProptest(self):\n",
    "    self.act=[]\n",
    "    self.act.append(self.test_data)\n",
    "    for i in range(len(self.layers)-2):\n",
    "        z = np.dot(self.parameters['W'][i], self.act[-1])\n",
    "        self.act.append(relu(z + self.parameters['b'][i]))  #relu\n",
    "    self.act.append(softmax(np.dot(self.parameters['W'][len(self.layers)-2], self.act[-1])))\n",
    "    \n",
    "    \n",
    "def compCosttrain(self):\n",
    "    interm = np.dot(np.log(self.act[-1]).T,self.y_train_onehot)\n",
    "    cost = -1.0/self.y_train_onehot.shape[1]*np.sum(np.trace(interm))\n",
    "    return cost\n",
    "    \n",
    "def compCosttest(self):\n",
    "    interm = np.dot(np.log(self.act[-1]).T,self.y_train_onehot)\n",
    "    cost = -1.0/self.y_train_onehot.shape[1]*np.sum(np.trace(interm))\n",
    "    return cost\n",
    "    \n",
    "def softmax(x):\n",
    "    \"\"\"Compute softmax values for each sets of scores in x.\"\"\"\n",
    "    e_x = np.exp(x - np.max(x))\n",
    "    return e_x / e_x.sum(axis=0)\n",
    "\n",
    "def backProp(self):\n",
    "    dZ = self.act[-1] - self.y_train_onehot\n",
    "    m = self.y_train_onehot.shape[1]\n",
    "    dW = 1.0/m * np.dot(dZ, self.act[-2].T)\n",
    "    db = 1.0/m * np.dot(dZ, self.act[-2].T)\n",
    "    dA_prev = np.dot(self.parameters['W'][-1].T, dZ)\n",
    "    self.parameters['W'][-1] = self.parameters['W'][-1] - learning_rate*dW\n",
    "    self.parameters['b'][-1] = self.parameters['b'][-1] - learning_rate*db\n",
    "    \n",
    "    for i in reversed(range(len(self.layers)-2)):\n",
    "        dA = dA_prev \n",
    "        dZ = linear_activation_backward(dA,self.act[i+1],\"relu\")\n",
    "        dW = 1.0/m * np.dot(dZ, self.act[i].T)\n",
    "        db = 1.0/m*  np.sum(np.array(dZ),axis=1,keepdims=True)\n",
    "        dA_prev = np.dot(self.parameters['W'][i].T, dZ)\n",
    "        self.parameters['W'][i] = self.parameters['W'][i] - learning_rate*dW\n",
    "        self.parameters['b'][i] = self.parameters['b'][i] - learning_rate*db\n",
    "\n",
    "def linear_activation_backward(dA,cache,activation):\n",
    "    if(activation==\"sigmoid\"):\n",
    "        act =  cache \n",
    "        return np.multiply(np.multiply(dA, act), 1-act)\n",
    "    if(activation==\"relu\"):\n",
    "        act = cache\n",
    "        act[act>0] = 1\n",
    "        act[act<0] = 0\n",
    "        return np.multiply(dA, act)\n",
    "\n",
    "def check_accuracy_train():\n",
    "    y = test.tdy\n",
    "    test.train_data = test.tdx[:,]\n",
    "    test.y_train_onehot = test.tdy[:,:100]\n",
    "    m = y.shape[1]\n",
    "    forwardProptrain(test)\n",
    "    y_hat = np.argmax(test.act[-1], axis = 0)\n",
    "    pred = y_hat\n",
    "    exp = np.argmax(y, axis = 0)\n",
    "    error = np.sum(exp!=pred)\n",
    "    # Calculate accuracy\n",
    "    return (m - error)/m * 100\n",
    "\n",
    "\n",
    "\n",
    "def check_accuracy():\n",
    "    y = test.tdy\n",
    "    tstx = test.train_data\n",
    "    tsty = test.y_train_onehot\n",
    "    test.train_data = test.tdx[:,]\n",
    "    #test.y_train_onehot = test.tdy[:,100]\n",
    "    m = y.shape[1]\n",
    "    forwardProptrain(test)\n",
    "    y_hat = np.argmax(test.act[-1], axis = 0)\n",
    "    pred = y_hat\n",
    "    exp = np.argmax(y, axis = 0)\n",
    "    error = np.sum(exp!=pred)\n",
    "    test.train_data = tstx\n",
    "    test.y_train_onehot = tsty\n",
    "    # Calculate accuracy\n",
    "    return (m - error)/m * 100\n",
    "\n",
    "def check_accuracy_test():\n",
    "    mat = np.zeros([10,10])\n",
    "    y = test.y_test_onehot\n",
    "    test.train_data = test.test_data[:,]\n",
    "    test.y_train_onehot = test.y_test_onehot[:,:100]\n",
    "    m = y.shape[1]\n",
    "    forwardProptrain(test)\n",
    "    y_hat = np.argmax(test.act[-1], axis = 0)\n",
    "    pred = y_hat\n",
    "    exp = np.argmax(y, axis = 0)\n",
    "    p = exp!=pred\n",
    "    error = np.sum(exp!=pred)\n",
    "    for i in range(m):\n",
    "        mat[exp[i]][pred[i]] =  mat[exp[i]][pred[i]] + 1\n",
    "    # Calculate accuracy\n",
    "    return (m - error)/m * 100, mat"
   ]
  },
  {
   "cell_type": "code",
   "execution_count": 41,
   "metadata": {},
   "outputs": [],
   "source": [
    "# save_mnist10()\n",
    "# x_train_flat, y_train_onehot, y_test_onehot, x_test_flat = load_mnist10()"
   ]
  },
  {
   "cell_type": "code",
   "execution_count": 42,
   "metadata": {},
   "outputs": [],
   "source": [
    "class deepfuzzy:\n",
    "    W = []\n",
    "    b = []\n",
    "    parameters = dict()\n",
    "    act = []\n",
    "    def __init__(self, layers, test_data, train_data, y_train_onehot, y_test_onehot, no_of_examples, iterations):\n",
    "        self.layers = layers\n",
    "        self.test_data = test_data\n",
    "        self.tdx = train_data\n",
    "        self.tdy = y_train_onehot\n",
    "        self.batch = no_of_examples\n",
    "        self.train_data = train_data[:, :no_of_examples]\n",
    "        self.y_train_onehot = y_train_onehot[:,:no_of_examples]\n",
    "        self.y_test_onehot = y_test_onehot\n",
    "        self.iter = iterations\n",
    "        initialize(self, 'random')        \n",
    "    def train(self):\n",
    "        for i in range(self.iter):\n",
    "                if(i%2==0):\n",
    "                    idx = np.random.randint(self.tdx.shape[1], size=self.batch)\n",
    "                    self.train_data = np.array(self.tdx[:,idx])\n",
    "                    self.y_train_onehot = self.tdy[:,idx]\n",
    "                forwardProptrain(self)\n",
    "                #print(self.act[-1])\n",
    "                cost = compCosttrain(self)\n",
    "                backProp(self)\n",
    "                #print(self.act[-1])\n",
    "                if(i%100 == 0):\n",
    "                    print(\"Accuracy: \", check_accuracy())\n",
    "                    self.saveWeights()\n",
    "    def test(self):\n",
    "        forwardProptest(self)\n",
    "        compCosttest(self)\n",
    "    def saveWeights(self):\n",
    "        np.save('W',self.parameters['W'])\n",
    "        np.save('b',self.parameters['b'])\n",
    "    def load(self):\n",
    "        W = np.load('W.npy')\n",
    "        b = np.load('b.npy')\n",
    "        self.parameters['W'] = W\n",
    "        self.parameters['b'] = b"
   ]
  },
  {
   "cell_type": "code",
   "execution_count": 43,
   "metadata": {
    "scrolled": false
   },
   "outputs": [],
   "source": [
    "test = deepfuzzy(layers,x_test_flat,x_train_flat,y_train_onehot,y_test_onehot, nMiniBatch, iterations = nIter)\n"
   ]
  },
  {
   "cell_type": "code",
   "execution_count": 44,
   "metadata": {
    "scrolled": true
   },
   "outputs": [
    {
     "name": "stdout",
     "output_type": "stream",
     "text": [
      "Accuracy:  10.218333333333334\n",
      "Accuracy:  10.218333333333334\n",
      "Accuracy:  10.47\n",
      "Accuracy:  9.736666666666666\n",
      "Accuracy:  18.856666666666666\n",
      "Accuracy:  16.07166666666667\n",
      "Accuracy:  16.255\n",
      "Accuracy:  24.001666666666665\n",
      "Accuracy:  24.33\n",
      "Accuracy:  26.44\n",
      "Accuracy:  25.871666666666666\n",
      "Accuracy:  30.578333333333337\n",
      "Accuracy:  31.740000000000002\n",
      "Accuracy:  31.453333333333333\n",
      "Accuracy:  33.405\n",
      "Accuracy:  34.986666666666665\n",
      "Accuracy:  35.620000000000005\n",
      "Accuracy:  35.556666666666665\n"
     ]
    },
    {
     "ename": "KeyboardInterrupt",
     "evalue": "",
     "output_type": "error",
     "traceback": [
      "\u001b[0;31m---------------------------------------------------------------------------\u001b[0m",
      "\u001b[0;31mKeyboardInterrupt\u001b[0m                         Traceback (most recent call last)",
      "\u001b[0;32m<ipython-input-44-00b5408b3bd8>\u001b[0m in \u001b[0;36m<module>\u001b[0;34m\u001b[0m\n\u001b[1;32m      1\u001b[0m \u001b[0;31m#test.load()\u001b[0m\u001b[0;34m\u001b[0m\u001b[0;34m\u001b[0m\u001b[0m\n\u001b[0;32m----> 2\u001b[0;31m \u001b[0mtest\u001b[0m\u001b[0;34m.\u001b[0m\u001b[0mtrain\u001b[0m\u001b[0;34m(\u001b[0m\u001b[0;34m)\u001b[0m\u001b[0;34m\u001b[0m\u001b[0m\n\u001b[0m",
      "\u001b[0;32m<ipython-input-42-8cfcca2c1d95>\u001b[0m in \u001b[0;36mtrain\u001b[0;34m(self)\u001b[0m\n\u001b[1;32m     27\u001b[0m                 \u001b[0;31m#print(self.act[-1])\u001b[0m\u001b[0;34m\u001b[0m\u001b[0;34m\u001b[0m\u001b[0m\n\u001b[1;32m     28\u001b[0m                 \u001b[0;32mif\u001b[0m\u001b[0;34m(\u001b[0m\u001b[0mi\u001b[0m\u001b[0;34m%\u001b[0m\u001b[0;36m100\u001b[0m \u001b[0;34m==\u001b[0m \u001b[0;36m0\u001b[0m\u001b[0;34m)\u001b[0m\u001b[0;34m:\u001b[0m\u001b[0;34m\u001b[0m\u001b[0m\n\u001b[0;32m---> 29\u001b[0;31m                     \u001b[0mprint\u001b[0m\u001b[0;34m(\u001b[0m\u001b[0;34m\"Accuracy: \"\u001b[0m\u001b[0;34m,\u001b[0m \u001b[0mcheck_accuracy\u001b[0m\u001b[0;34m(\u001b[0m\u001b[0;34m)\u001b[0m\u001b[0;34m)\u001b[0m\u001b[0;34m\u001b[0m\u001b[0m\n\u001b[0m\u001b[1;32m     30\u001b[0m                     \u001b[0mself\u001b[0m\u001b[0;34m.\u001b[0m\u001b[0msaveWeights\u001b[0m\u001b[0;34m(\u001b[0m\u001b[0;34m)\u001b[0m\u001b[0;34m\u001b[0m\u001b[0m\n\u001b[1;32m     31\u001b[0m     \u001b[0;32mdef\u001b[0m \u001b[0mtest\u001b[0m\u001b[0;34m(\u001b[0m\u001b[0mself\u001b[0m\u001b[0;34m)\u001b[0m\u001b[0;34m:\u001b[0m\u001b[0;34m\u001b[0m\u001b[0m\n",
      "\u001b[0;32m<ipython-input-40-ca2f984792e6>\u001b[0m in \u001b[0;36mcheck_accuracy\u001b[0;34m()\u001b[0m\n\u001b[1;32m    111\u001b[0m     \u001b[0;31m#test.y_train_onehot = test.tdy[:,100]\u001b[0m\u001b[0;34m\u001b[0m\u001b[0;34m\u001b[0m\u001b[0m\n\u001b[1;32m    112\u001b[0m     \u001b[0mm\u001b[0m \u001b[0;34m=\u001b[0m \u001b[0my\u001b[0m\u001b[0;34m.\u001b[0m\u001b[0mshape\u001b[0m\u001b[0;34m[\u001b[0m\u001b[0;36m1\u001b[0m\u001b[0;34m]\u001b[0m\u001b[0;34m\u001b[0m\u001b[0m\n\u001b[0;32m--> 113\u001b[0;31m     \u001b[0mforwardProptrain\u001b[0m\u001b[0;34m(\u001b[0m\u001b[0mtest\u001b[0m\u001b[0;34m)\u001b[0m\u001b[0;34m\u001b[0m\u001b[0m\n\u001b[0m\u001b[1;32m    114\u001b[0m     \u001b[0my_hat\u001b[0m \u001b[0;34m=\u001b[0m \u001b[0mnp\u001b[0m\u001b[0;34m.\u001b[0m\u001b[0margmax\u001b[0m\u001b[0;34m(\u001b[0m\u001b[0mtest\u001b[0m\u001b[0;34m.\u001b[0m\u001b[0mact\u001b[0m\u001b[0;34m[\u001b[0m\u001b[0;34m-\u001b[0m\u001b[0;36m1\u001b[0m\u001b[0;34m]\u001b[0m\u001b[0;34m,\u001b[0m \u001b[0maxis\u001b[0m \u001b[0;34m=\u001b[0m \u001b[0;36m0\u001b[0m\u001b[0;34m)\u001b[0m\u001b[0;34m\u001b[0m\u001b[0m\n\u001b[1;32m    115\u001b[0m     \u001b[0mpred\u001b[0m \u001b[0;34m=\u001b[0m \u001b[0my_hat\u001b[0m\u001b[0;34m\u001b[0m\u001b[0m\n",
      "\u001b[0;32m<ipython-input-40-ca2f984792e6>\u001b[0m in \u001b[0;36mforwardProptrain\u001b[0;34m(self)\u001b[0m\n\u001b[1;32m     34\u001b[0m     \u001b[0;32mfor\u001b[0m \u001b[0mi\u001b[0m \u001b[0;32min\u001b[0m \u001b[0mrange\u001b[0m\u001b[0;34m(\u001b[0m\u001b[0mlen\u001b[0m\u001b[0;34m(\u001b[0m\u001b[0mself\u001b[0m\u001b[0;34m.\u001b[0m\u001b[0mlayers\u001b[0m\u001b[0;34m)\u001b[0m\u001b[0;34m-\u001b[0m\u001b[0;36m2\u001b[0m\u001b[0;34m)\u001b[0m\u001b[0;34m:\u001b[0m\u001b[0;34m\u001b[0m\u001b[0m\n\u001b[1;32m     35\u001b[0m         \u001b[0mz\u001b[0m \u001b[0;34m=\u001b[0m \u001b[0mnp\u001b[0m\u001b[0;34m.\u001b[0m\u001b[0mdot\u001b[0m\u001b[0;34m(\u001b[0m\u001b[0mself\u001b[0m\u001b[0;34m.\u001b[0m\u001b[0mparameters\u001b[0m\u001b[0;34m[\u001b[0m\u001b[0;34m'W'\u001b[0m\u001b[0;34m]\u001b[0m\u001b[0;34m[\u001b[0m\u001b[0mi\u001b[0m\u001b[0;34m]\u001b[0m\u001b[0;34m,\u001b[0m \u001b[0mself\u001b[0m\u001b[0;34m.\u001b[0m\u001b[0mact\u001b[0m\u001b[0;34m[\u001b[0m\u001b[0;34m-\u001b[0m\u001b[0;36m1\u001b[0m\u001b[0;34m]\u001b[0m\u001b[0;34m)\u001b[0m\u001b[0;34m\u001b[0m\u001b[0m\n\u001b[0;32m---> 36\u001b[0;31m         \u001b[0mself\u001b[0m\u001b[0;34m.\u001b[0m\u001b[0mact\u001b[0m\u001b[0;34m.\u001b[0m\u001b[0mappend\u001b[0m\u001b[0;34m(\u001b[0m\u001b[0mrelu\u001b[0m\u001b[0;34m(\u001b[0m\u001b[0mz\u001b[0m \u001b[0;34m+\u001b[0m \u001b[0mself\u001b[0m\u001b[0;34m.\u001b[0m\u001b[0mparameters\u001b[0m\u001b[0;34m[\u001b[0m\u001b[0;34m'b'\u001b[0m\u001b[0;34m]\u001b[0m\u001b[0;34m[\u001b[0m\u001b[0mi\u001b[0m\u001b[0;34m]\u001b[0m\u001b[0;34m)\u001b[0m\u001b[0;34m)\u001b[0m  \u001b[0;31m#relu\u001b[0m\u001b[0;34m\u001b[0m\u001b[0m\n\u001b[0m\u001b[1;32m     37\u001b[0m     \u001b[0mself\u001b[0m\u001b[0;34m.\u001b[0m\u001b[0mact\u001b[0m\u001b[0;34m.\u001b[0m\u001b[0mappend\u001b[0m\u001b[0;34m(\u001b[0m\u001b[0msoftmax\u001b[0m\u001b[0;34m(\u001b[0m\u001b[0mnp\u001b[0m\u001b[0;34m.\u001b[0m\u001b[0mdot\u001b[0m\u001b[0;34m(\u001b[0m\u001b[0mself\u001b[0m\u001b[0;34m.\u001b[0m\u001b[0mparameters\u001b[0m\u001b[0;34m[\u001b[0m\u001b[0;34m'W'\u001b[0m\u001b[0;34m]\u001b[0m\u001b[0;34m[\u001b[0m\u001b[0mlen\u001b[0m\u001b[0;34m(\u001b[0m\u001b[0mself\u001b[0m\u001b[0;34m.\u001b[0m\u001b[0mlayers\u001b[0m\u001b[0;34m)\u001b[0m\u001b[0;34m-\u001b[0m\u001b[0;36m2\u001b[0m\u001b[0;34m]\u001b[0m\u001b[0;34m,\u001b[0m \u001b[0mself\u001b[0m\u001b[0;34m.\u001b[0m\u001b[0mact\u001b[0m\u001b[0;34m[\u001b[0m\u001b[0;34m-\u001b[0m\u001b[0;36m1\u001b[0m\u001b[0;34m]\u001b[0m\u001b[0;34m)\u001b[0m\u001b[0;34m)\u001b[0m\u001b[0;34m)\u001b[0m\u001b[0;34m\u001b[0m\u001b[0m\n\u001b[1;32m     38\u001b[0m \u001b[0;34m\u001b[0m\u001b[0m\n",
      "\u001b[0;32m<ipython-input-40-ca2f984792e6>\u001b[0m in \u001b[0;36mrelu\u001b[0;34m(x)\u001b[0m\n\u001b[1;32m     27\u001b[0m \u001b[0;34m\u001b[0m\u001b[0m\n\u001b[1;32m     28\u001b[0m \u001b[0;32mdef\u001b[0m \u001b[0mrelu\u001b[0m\u001b[0;34m(\u001b[0m\u001b[0mx\u001b[0m\u001b[0;34m)\u001b[0m\u001b[0;34m:\u001b[0m\u001b[0;34m\u001b[0m\u001b[0m\n\u001b[0;32m---> 29\u001b[0;31m     \u001b[0;32mreturn\u001b[0m \u001b[0mnp\u001b[0m\u001b[0;34m.\u001b[0m\u001b[0mmaximum\u001b[0m\u001b[0;34m(\u001b[0m\u001b[0;36m0\u001b[0m\u001b[0;34m,\u001b[0m\u001b[0mx\u001b[0m\u001b[0;34m)\u001b[0m\u001b[0;34m\u001b[0m\u001b[0m\n\u001b[0m\u001b[1;32m     30\u001b[0m \u001b[0;34m\u001b[0m\u001b[0m\n\u001b[1;32m     31\u001b[0m \u001b[0;32mdef\u001b[0m \u001b[0mforwardProptrain\u001b[0m\u001b[0;34m(\u001b[0m\u001b[0mself\u001b[0m\u001b[0;34m)\u001b[0m\u001b[0;34m:\u001b[0m\u001b[0;34m\u001b[0m\u001b[0m\n",
      "\u001b[0;31mKeyboardInterrupt\u001b[0m: "
     ]
    }
   ],
   "source": [
    "#test.load()\n",
    "test.train()"
   ]
  },
  {
   "cell_type": "code",
   "execution_count": 45,
   "metadata": {},
   "outputs": [
    {
     "name": "stdout",
     "output_type": "stream",
     "text": [
      "Train Accuracy:  35.945\n"
     ]
    }
   ],
   "source": [
    "train_acc = check_accuracy_train()\n",
    "print(\"Train Accuracy: \", train_acc)"
   ]
  },
  {
   "cell_type": "code",
   "execution_count": 46,
   "metadata": {},
   "outputs": [
    {
     "name": "stdout",
     "output_type": "stream",
     "text": [
      "Test Accuracy:  36.65\n",
      "Confusion Matrix: \n",
      "[[ 867    0    0  112    0    0    0    0    0    1]\n",
      " [   0 1020    0    8    0    0    0   79    0   28]\n",
      " [ 160    4    0  702    0    0    0   28   19  119]\n",
      " [ 104    9    0  728    0    0    0   26   11  132]\n",
      " [   3   48    0  130    0    0    0  302   10  489]\n",
      " [ 115    2    0  640    0    0    0    7   11  117]\n",
      " [ 216    2    0  645    0    0    0   10    6   79]\n",
      " [   0  152    0   49    0    0    0  478   11  338]\n",
      " [  48    1    0  565    0    0    0   24   40  296]\n",
      " [   7   30    0   82    0    0    0  353    5  532]]\n"
     ]
    }
   ],
   "source": [
    "acc, conf_mat = check_accuracy_test()\n",
    "print(\"Test Accuracy: \", acc)\n",
    "print(\"Confusion Matrix: \")\n",
    "print(conf_mat.astype(int))"
   ]
  },
  {
   "cell_type": "code",
   "execution_count": null,
   "metadata": {},
   "outputs": [],
   "source": []
  }
 ],
 "metadata": {
  "kernelspec": {
   "display_name": "Python 3",
   "language": "python",
   "name": "python3"
  },
  "language_info": {
   "codemirror_mode": {
    "name": "ipython",
    "version": 3
   },
   "file_extension": ".py",
   "mimetype": "text/x-python",
   "name": "python",
   "nbconvert_exporter": "python",
   "pygments_lexer": "ipython3",
   "version": "3.5.2"
  }
 },
 "nbformat": 4,
 "nbformat_minor": 2
}
