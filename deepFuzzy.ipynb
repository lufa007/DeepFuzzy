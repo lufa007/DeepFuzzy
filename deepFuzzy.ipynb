{
 "cells": [
  {
   "cell_type": "code",
   "execution_count": 5,
   "metadata": {},
   "outputs": [],
   "source": [
    "import numpy as np\n",
    "import tensorflow as tf"
   ]
  },
  {
   "cell_type": "code",
   "execution_count": 6,
   "metadata": {},
   "outputs": [],
   "source": [
    "class deepFuzzy:\n",
    "    W = dict()\n",
    "    b = dict()\n",
    "    A = dict()\n",
    "    Z = dict()\n",
    "    grads = dict()\n",
    "    def __init__(self,layers, x_train,x_test,y_train,y_test):\n",
    "        self.layers = layers\n",
    "        self.x_train = x_train\n",
    "        self.x_test = x_test\n",
    "        self.y_train = y_train\n",
    "        self.y_test = y_test\n",
    "        self.L = len(layers)\n",
    "    def initialize(self, initializer = 'random'):\n",
    "        for i in range(1,self.L):\n",
    "            self.W[\"W\" + str(i)] = np.random.randn(self.layers[i][0],self.layers[i-1][0])*0.01\n",
    "            self.b[\"b\" + str(i)] = np.random.randn(self.layers[i][0],1)\n",
    "    \n",
    "    ###FORWARD PROP###\n",
    "    @staticmethod\n",
    "    def forward(A,W,b):\n",
    "        Z = np.dot(W,A) + b\n",
    "        return Z\n",
    "    @staticmethod        \n",
    "    def forwardAct(A,W,b,activation = 'sigmoid'):\n",
    "        Z, linear_cache = deepfuzzy.forward(A,W,b)\n",
    "        activation_cache = Z\n",
    "        if activation == 'sigmoid':\n",
    "            A_next = sigmoid(Z)\n",
    "        if activation == 'relu':\n",
    "            A_next = relu(Z)\n",
    "        return A_next, Z\n",
    "    \n",
    "    def forwardProp(self):\n",
    "        A = self.x_train\n",
    "        self.A[\"A\" + str(0)] = A \n",
    "        for i in range (1,self.L):\n",
    "            A, Z = deepfuzzy.forwardAct(A, self.W[str(i)], self.b[str(i)], activation = layers[i-1][1])\n",
    "            self.A[\"A\" + str(i)] = A \n",
    "            self.Z[\"Z\" + str(i)] = Z\n",
    "            print(A.shape)\n",
    "\n",
    "    def compute_cost(self):\n",
    "        m = self.y_train.shape[1]\n",
    "        Y = self.y_train\n",
    "        AL = self.A[\"A\" + str(self.L-1)]\n",
    "        print(Y.shape)\n",
    "        print(AL.shape)\n",
    "        cost = (1./m) * (-np.dot(Y,np.log(AL).T) - np.dot(1-Y, np.log(1-AL).T))\n",
    "        cost = np.squeeze(cost) \n",
    "        return cost\n",
    "    \n",
    "    ###BACKWARD PROP###\n",
    "    @staticmethod    \n",
    "    def backward(dZ, cache):\n",
    "        A_prev, W, b = cache\n",
    "        m = A_prev.shape[1]\n",
    "        dW = 1.0/m * dZ.dot(A_prev.T)\n",
    "        db = 1.0/m * np.sum(dZ,axis=1,keepdims=True)\n",
    "        dA_prev = W.T.dot(dZ)\n",
    "        return dA_prev, dW, db\n",
    "    @staticmethod\n",
    "    def backwardAct(dA, cache, activation):\n",
    "        linear_cache, activation_cache = cache\n",
    "        if activation == \"relu\":\n",
    "            dZ = relu_backward(dA, activation_cache)\n",
    "            dA_prev, dW, db = deepfuzzy.backward(dZ, linear_cache)\n",
    "        elif activation == \"sigmoid\":\n",
    "            dZ = sigmoid_backward(dA, activation_cache)\n",
    "            dA_prev, dW, db = deepfuzzy.backward(dZ, linear_cache)\n",
    "        return dA_prev, dW, db\n",
    "    \n",
    "    def backwardProp(self):\n",
    "        L = self.L\n",
    "        AL = self.A[\"A\" + str(L-1)]\n",
    "        m = AL.shape[1]\n",
    "        Y = self.y_train.reshape(AL.shape) \n",
    "        dAL = - (np.divide(Y, AL) - np.divide(1 - Y, 1 - self.AL))\n",
    "        self.grads[\"dA\" + str(L+1)]\n",
    "#         current_cache = self.caches[L-1]\n",
    "#         self.grads[\"dA\" + str(L)], self.grads[\"dW\" + str(L)], self.grads[\"db\" + str(L)] = deepfuzzy.backwardAct(dAL, current_cache, \"sigmoid\")\n",
    "        for l in reversed(range(L)):\n",
    "            current_cache = (self.Z[\"Z\" + str(l)],(self.A[\"A\"+str(l)],self.W[\"W\"+str(l)],self.b[\"b\"+str(l)]))\n",
    "            dA_prev_temp, dW_temp, db_temp = deepfuzzy.backwardAct(self.grads[\"dA\"+str(l+2)], current_cache, activation = layers[i-1][1])\n",
    "            self.grads[\"dA\" + str(l + 1)] = dA_prev_temp\n",
    "            self.grads[\"dW\" + str(l + 1)] = dW_temp\n",
    "            self.grads[\"db\" + str(l + 1)] = db_temp\n",
    "    def update_parameters(self,learning_rate):\n",
    "        for l in range(self.L):\n",
    "            self.W[str(l+1)] = self.W[str(l+1)] - learning_rate * self.grads[\"dW\" + str(l+1)]\n",
    "            self.b[str(l+1)] = self.b[str(l+1)] - learning_rate * self.grads[\"db\" + str(l+1)]\n"
   ]
  },
  {
   "cell_type": "code",
   "execution_count": 7,
   "metadata": {},
   "outputs": [],
   "source": [
    "layers = [[784,'relu'],[50, 'relu'],[12, 'relu'],[45, 'relu'],[10,'sigmoid']]"
   ]
  },
  {
   "cell_type": "code",
   "execution_count": 8,
   "metadata": {},
   "outputs": [],
   "source": [
    "def load_mnist():\n",
    "    mnist = tf.keras.datasets.mnist\n",
    "    (x_train, y_train),(x_test, y_test) = mnist.load_data()\n",
    "    x_train, x_test = x_train / 255.0, x_test / 255.0\n",
    "    nClass = 10\n",
    "    x_train_flat = x_train.reshape(x_train.shape[0],-1).T\n",
    "    x_test_flat = x_test.reshape(x_test.shape[0],-1).T\n",
    "    y_train_onehot = np.eye(nClass)[y_train].T\n",
    "    y_test_onehot = np.eye(nClass)[y_test]\n",
    "    return x_train_flat, x_test_flat, y_train_onehot, y_test_onehot"
   ]
  },
  {
   "cell_type": "code",
   "execution_count": 9,
   "metadata": {},
   "outputs": [],
   "source": [
    "x_train, x_test, y_train, y_test = load_mnist()"
   ]
  },
  {
   "cell_type": "code",
   "execution_count": null,
   "metadata": {},
   "outputs": [],
   "source": []
  }
 ],
 "metadata": {
  "kernelspec": {
   "display_name": "Python 3",
   "language": "python",
   "name": "python3"
  },
  "language_info": {
   "codemirror_mode": {
    "name": "ipython",
    "version": 3
   },
   "file_extension": ".py",
   "mimetype": "text/x-python",
   "name": "python",
   "nbconvert_exporter": "python",
   "pygments_lexer": "ipython3",
   "version": "3.5.2"
  }
 },
 "nbformat": 4,
 "nbformat_minor": 2
}
