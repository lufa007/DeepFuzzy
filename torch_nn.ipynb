{
 "cells": [
  {
   "cell_type": "code",
   "execution_count": 1,
   "metadata": {},
   "outputs": [],
   "source": [
    "#To use this on google colaboratory\n",
    "try:\n",
    "    import nn_fuzzy\n",
    "except:\n",
    "    !rm -f -r DeepFuzzy\n",
    "    !git clone https://github.com/tanishqjasoria/DeepFuzzy.git\n",
    "    import sys\n",
    "    sys.path.insert(0,'/content/DeepFuzzy')"
   ]
  },
  {
   "cell_type": "code",
   "execution_count": 1,
   "metadata": {},
   "outputs": [],
   "source": [
    "import numpy as np\n",
    "import torch\n",
    "import torchvision\n",
    "import torch.nn as nn\n",
    "import torch.nn.functional as F\n",
    "import torch.optim as optim\n",
    "import tensorflow.keras.datasets as datasets\n",
    "from torch_dataload import MyDataset\n",
    "import nn_fuzzy\n",
    "import matplotlib.pyplot as plt"
   ]
  },
  {
   "cell_type": "code",
   "execution_count": 2,
   "metadata": {},
   "outputs": [
    {
     "name": "stdout",
     "output_type": "stream",
     "text": [
      "Layers:  [784, 256, 10]\n",
      "Learning Rate:  0.01\n",
      "Number of MiniBatch:  128\n",
      "Iterations:  10000\n",
      "Layers:  [2352, 256, 10]\n",
      "Learning Rate:  0.01\n",
      "Number of MiniBatch:  128\n",
      "Iterations:  10000\n",
      "Layers:  [39, 8, 2]\n",
      "Learning Rate:  0.01\n",
      "Number of MiniBatch:  16\n",
      "Iterations:  10000\n"
     ]
    }
   ],
   "source": [
    "#Parameters - To be defined by user\n",
    "nClass = 10\n",
    "nHidden = [256]\n",
    "nInput = 784\n",
    "layers = [nInput] + nHidden + [nClass]\n",
    "limit = 0.0001\n",
    "#Hyperparameters - To be tuned by the user\n",
    "learning_rate = 0.01\n",
    "nMiniBatch = 128\n",
    "nIter = 10000\n",
    "print(\"Layers: \", layers)\n",
    "print(\"Learning Rate: \", learning_rate)\n",
    "print(\"Number of MiniBatch: \", nMiniBatch)\n",
    "print(\"Iterations: \", nIter)\n",
    "\n",
    "#Parameters (for fuzzy)- To be defined by user\n",
    "nClass_fuzzy = 10\n",
    "nHidden_fuzzy = [256]\n",
    "nInput_fuzzy = 784 * 3\n",
    "layers_fuzzy = [nInput_fuzzy] + nHidden_fuzzy + [nClass_fuzzy]\n",
    "limit = 0.0001\n",
    "#Hyperparameters - To be tuned by the user\n",
    "learning_rate = 0.01\n",
    "nMiniBatch = 128\n",
    "nIter = 10000\n",
    "print(\"Layers: \", layers_fuzzy)\n",
    "print(\"Learning Rate: \", learning_rate)\n",
    "print(\"Number of MiniBatch: \", nMiniBatch)\n",
    "print(\"Iterations: \", nIter)\n",
    "\n",
    "#Parameters (for heart)- To be defined by user\n",
    "nClass_heart = 2\n",
    "nHidden_heart = [8]\n",
    "nInput_heart = 13 * 3\n",
    "layers_heart = [nInput_heart] + nHidden_heart + [nClass_heart]\n",
    "limit = 0.0001\n",
    "#Hyperparameters - To be tuned by the user\n",
    "learning_rate = 0.01\n",
    "nMiniBatch = 16\n",
    "nIter = 10000\n",
    "print(\"Layers: \", layers_heart)\n",
    "print(\"Learning Rate: \", learning_rate)\n",
    "print(\"Number of MiniBatch: \", nMiniBatch)\n",
    "print(\"Iterations: \", nIter)"
   ]
  },
  {
   "cell_type": "code",
   "execution_count": 3,
   "metadata": {},
   "outputs": [
    {
     "name": "stdout",
     "output_type": "stream",
     "text": [
      "(60000, 784)\n",
      "(60000, 10)\n",
      "(129, 784)\n"
     ]
    }
   ],
   "source": [
    "#-------data input function-----------------------------#\n",
    "def getDataset(name, nClass):\n",
    "    if name==\"mnist\":\n",
    "        dataset = datasets.mnist\n",
    "    (x_train, y_train),(x_test, y_test) = dataset.load_data()     #downloading and loading the dataset\n",
    "    x_train, x_test = x_train / 255.0, x_test / 255.0             #normalizing the input data\n",
    "    x_train_flat = x_train.reshape(x_train.shape[0],-1)         #making dataset suitable for input in Fully Connected layer\n",
    "    x_test_flat = x_test.reshape(x_test.shape[0],-1)          #making dataset suitable for input in Fully Connected layer\n",
    "    y_train_onehot = np.eye(nClass)[y_train]                    #converting to one hot vectors\n",
    "    y_test_onehot = np.eye(nClass)[y_test]                     #converting to one hot vectors\n",
    "    print(x_train_flat.shape)\n",
    "    print(y_train_onehot.shape)\n",
    "    x_train_batch = np.array_split(x_train_flat, int(60000/128))\n",
    "    print(x_train_batch[2].shape)\n",
    "    return x_train_flat, x_test_flat, y_train_onehot, y_test_onehot\n",
    "\n",
    "x_train, x_test, y_train, y_test = getDataset(\"mnist\", 10)"
   ]
  },
  {
   "cell_type": "code",
   "execution_count": 4,
   "metadata": {},
   "outputs": [
    {
     "name": "stdout",
     "output_type": "stream",
     "text": [
      "Time taken to fuzzify - x_train : 150.504314661026\n",
      "Time taken to fuzzify - x_test : 26.442381381988525\n",
      "(10, 784)\n",
      "(10, 784)\n",
      "Time taken to fuzzify - y_train : 8.555930614471436\n",
      "Time taken to fuzzify - y_train : 1.430511474609375e-06\n"
     ]
    }
   ],
   "source": [
    "x_train_fuzzy, x_test_fuzzy, y_train_fuzzy, y_test_fuzzy = nn_fuzzy.fuzzify_dataset(x_train, x_test, y_train, y_test, cnn=1)"
   ]
  },
  {
   "cell_type": "code",
   "execution_count": 5,
   "metadata": {},
   "outputs": [
    {
     "ename": "FileNotFoundError",
     "evalue": "[Errno 2] No such file or directory: 'x_train_fuzzy.npy'",
     "output_type": "error",
     "traceback": [
      "\u001b[0;31m---------------------------------------------------------------------------\u001b[0m",
      "\u001b[0;31mFileNotFoundError\u001b[0m                         Traceback (most recent call last)",
      "\u001b[0;32m<ipython-input-5-5cb0e5a9d90a>\u001b[0m in \u001b[0;36m<module>\u001b[0;34m\u001b[0m\n\u001b[0;32m----> 1\u001b[0;31m \u001b[0mx_train_fuzzy\u001b[0m \u001b[0;34m=\u001b[0m \u001b[0mnp\u001b[0m\u001b[0;34m.\u001b[0m\u001b[0mload\u001b[0m\u001b[0;34m(\u001b[0m\u001b[0;34m'x_train_fuzzy.npy'\u001b[0m\u001b[0;34m)\u001b[0m\u001b[0;34m\u001b[0m\u001b[0;34m\u001b[0m\u001b[0m\n\u001b[0m\u001b[1;32m      2\u001b[0m \u001b[0mx_test_fuzzy\u001b[0m \u001b[0;34m=\u001b[0m \u001b[0mnp\u001b[0m\u001b[0;34m.\u001b[0m\u001b[0mload\u001b[0m\u001b[0;34m(\u001b[0m\u001b[0;34m'x_test_fuzzy.npy'\u001b[0m\u001b[0;34m)\u001b[0m\u001b[0;34m\u001b[0m\u001b[0;34m\u001b[0m\u001b[0m\n",
      "\u001b[0;32m~/anaconda3/envs/deepfuzzy/lib/python3.7/site-packages/numpy/lib/npyio.py\u001b[0m in \u001b[0;36mload\u001b[0;34m(file, mmap_mode, allow_pickle, fix_imports, encoding)\u001b[0m\n\u001b[1;32m    420\u001b[0m         \u001b[0mown_fid\u001b[0m \u001b[0;34m=\u001b[0m \u001b[0;32mFalse\u001b[0m\u001b[0;34m\u001b[0m\u001b[0;34m\u001b[0m\u001b[0m\n\u001b[1;32m    421\u001b[0m     \u001b[0;32melse\u001b[0m\u001b[0;34m:\u001b[0m\u001b[0;34m\u001b[0m\u001b[0;34m\u001b[0m\u001b[0m\n\u001b[0;32m--> 422\u001b[0;31m         \u001b[0mfid\u001b[0m \u001b[0;34m=\u001b[0m \u001b[0mopen\u001b[0m\u001b[0;34m(\u001b[0m\u001b[0mos_fspath\u001b[0m\u001b[0;34m(\u001b[0m\u001b[0mfile\u001b[0m\u001b[0;34m)\u001b[0m\u001b[0;34m,\u001b[0m \u001b[0;34m\"rb\"\u001b[0m\u001b[0;34m)\u001b[0m\u001b[0;34m\u001b[0m\u001b[0;34m\u001b[0m\u001b[0m\n\u001b[0m\u001b[1;32m    423\u001b[0m         \u001b[0mown_fid\u001b[0m \u001b[0;34m=\u001b[0m \u001b[0;32mTrue\u001b[0m\u001b[0;34m\u001b[0m\u001b[0;34m\u001b[0m\u001b[0m\n\u001b[1;32m    424\u001b[0m \u001b[0;34m\u001b[0m\u001b[0m\n",
      "\u001b[0;31mFileNotFoundError\u001b[0m: [Errno 2] No such file or directory: 'x_train_fuzzy.npy'"
     ]
    }
   ],
   "source": [
    "x_train_fuzzy = np.load('x_train_fuzzy.npy')\n",
    "x_test_fuzzy = np.load('x_test_fuzzy.npy')"
   ]
  },
  {
   "cell_type": "code",
   "execution_count": 6,
   "metadata": {},
   "outputs": [],
   "source": [
    "x_train_fuzzy = x_train_fuzzy.reshape(-1, 3, 28, 28)\n",
    "x_test_fuzzy = x_test_fuzzy.reshape(-1, 3, 28, 28)"
   ]
  },
  {
   "cell_type": "code",
   "execution_count": null,
   "metadata": {},
   "outputs": [],
   "source": [
    "y_train_fuzzy"
   ]
  },
  {
   "cell_type": "code",
   "execution_count": 7,
   "metadata": {},
   "outputs": [
    {
     "data": {
      "text/plain": [
       "<torch._C.Generator at 0x7f564411aa70>"
      ]
     },
     "execution_count": 7,
     "metadata": {},
     "output_type": "execute_result"
    }
   ],
   "source": [
    "n_epochs = 3\n",
    "batch_size_train = 64\n",
    "batch_size_test = 1000\n",
    "learning_rate = 0.01\n",
    "momentum = 0.5\n",
    "log_interval = 10\n",
    "\n",
    "random_seed = 1\n",
    "torch.backends.cudnn.enabled = False\n",
    "torch.manual_seed(random_seed)"
   ]
  },
  {
   "cell_type": "code",
   "execution_count": 8,
   "metadata": {},
   "outputs": [
    {
     "data": {
      "text/plain": [
       "array([9.15154515e-03, 3.39746217e-03, 1.01711850e-02, 3.65971470e-02,\n",
       "       3.26818577e-03, 1.61181367e-02, 2.59568496e-03, 9.89239188e-07,\n",
       "       5.33896948e-03, 6.45779845e-04])"
      ]
     },
     "execution_count": 8,
     "metadata": {},
     "output_type": "execute_result"
    },
    {
     "data": {
      "image/png": "[encoded data removed]",
      "text/plain": [
       "<Figure size 432x288 with 1 Axes>"
      ]
     },
     "metadata": {
      "needs_background": "light"
     },
     "output_type": "display_data"
    }
   ],
   "source": [
    "index = 0\n",
    "plt.imshow(x_train[index].reshape(28,28), cmap='Greys')\n",
    "y_train_fuzzy[index]"
   ]
  },
  {
   "cell_type": "code",
   "execution_count": 9,
   "metadata": {},
   "outputs": [
    {
     "data": {
      "text/plain": [
       "array([9.15154515e-03, 3.39746217e-03, 1.01711850e-02, 3.65971470e-02,\n",
       "       3.26818577e-03, 1.61181367e-02, 2.59568496e-03, 9.89239188e-07,\n",
       "       5.33896948e-03, 6.45779845e-04])"
      ]
     },
     "execution_count": 9,
     "metadata": {},
     "output_type": "execute_result"
    },
    {
     "data": {
      "image/png": "[encoded data removed]",
      "text/plain": [
       "<Figure size 432x288 with 1 Axes>"
      ]
     },
     "metadata": {
      "needs_background": "light"
     },
     "output_type": "display_data"
    }
   ],
   "source": [
    "plt.imshow(x_train_fuzzy[index][0].reshape(28,28), cmap='Greys')\n",
    "y_train_fuzzy[index]"
   ]
  },
  {
   "cell_type": "code",
   "execution_count": 10,
   "metadata": {},
   "outputs": [
    {
     "data": {
      "text/plain": [
       "array([9.15154515e-03, 3.39746217e-03, 1.01711850e-02, 3.65971470e-02,\n",
       "       3.26818577e-03, 1.61181367e-02, 2.59568496e-03, 9.89239188e-07,\n",
       "       5.33896948e-03, 6.45779845e-04])"
      ]
     },
     "execution_count": 10,
     "metadata": {},
     "output_type": "execute_result"
    },
    {
     "data": {
      "image/png": "[encoded data removed]",
      "text/plain": [
       "<Figure size 432x288 with 1 Axes>"
      ]
     },
     "metadata": {
      "needs_background": "light"
     },
     "output_type": "display_data"
    }
   ],
   "source": [
    "plt.imshow(x_train_fuzzy[index][1].reshape(28,28), cmap='Greys')\n",
    "y_train_fuzzy[index]"
   ]
  },
  {
   "cell_type": "code",
   "execution_count": 11,
   "metadata": {},
   "outputs": [
    {
     "data": {
      "text/plain": [
       "array([9.15154515e-03, 3.39746217e-03, 1.01711850e-02, 3.65971470e-02,\n",
       "       3.26818577e-03, 1.61181367e-02, 2.59568496e-03, 9.89239188e-07,\n",
       "       5.33896948e-03, 6.45779845e-04])"
      ]
     },
     "execution_count": 11,
     "metadata": {},
     "output_type": "execute_result"
    },
    {
     "data": {
      "image/png": "[encoded data removed]",
      "text/plain": [
       "<Figure size 432x288 with 1 Axes>"
      ]
     },
     "metadata": {
      "needs_background": "light"
     },
     "output_type": "display_data"
    }
   ],
   "source": [
    "plt.imshow(x_train_fuzzy[index][2].reshape(28,28), cmap='Greys')\n",
    "y_train_fuzzy[index]"
   ]
  },
  {
   "cell_type": "code",
   "execution_count": 12,
   "metadata": {},
   "outputs": [],
   "source": [
    "# trainset = MyDataset(x_train, x_test, y_train, y_test, train=True)\n",
    "trainset = MyDataset(x_train, x_test, y_train, y_test, train=True)\n",
    "trainloader = torch.utils.data.DataLoader(trainset, batch_size=batch_size_train, shuffle=True)\n",
    "\n",
    "# testset = MyDataset(x_train, x_test, y_train, y_test, train=False)\n",
    "testset = MyDataset(x_train, x_test, y_train, y_test, train=False)\n",
    "test_loader = torch.utils.data.DataLoader(testset, batch_size=batch_size_test, shuffle=True)"
   ]
  },
  {
   "cell_type": "code",
   "execution_count": 16,
   "metadata": {},
   "outputs": [],
   "source": [
    "class Net(nn.Module):\n",
    "    def __init__(self):\n",
    "        super(Net, self).__init__()\n",
    "        self.conv1 = nn.Conv2d(1, 20, 5, 1)\n",
    "        self.conv2 = nn.Conv2d(20, 50, 5, 1)\n",
    "        self.fc1 = nn.Linear(4*4*50, 500)\n",
    "        self.fc2 = nn.Linear(500, 10)\n",
    "\n",
    "    def forward(self, x):\n",
    "        x = x.reshape(-1, 1, 28, 28)\n",
    "        x = F.relu(self.conv1(x))\n",
    "        x = F.max_pool2d(x, 2, 2)\n",
    "        x = F.relu(self.conv2(x))\n",
    "        x = F.max_pool2d(x, 2, 2)\n",
    "        x = x.view(-1, 4*4*50)\n",
    "        x = F.relu(self.fc1(x))\n",
    "        x = self.fc2(x)\n",
    "        return F.log_softmax(x, dim=1)\n",
    "net = Net()"
   ]
  },
  {
   "cell_type": "code",
   "execution_count": 17,
   "metadata": {},
   "outputs": [],
   "source": [
    "criterion = nn.MultiLabelSoftMarginLoss()\n",
    "optimizer = optim.SGD(net.parameters(), lr=0.005, momentum=0.9)"
   ]
  },
  {
   "cell_type": "code",
   "execution_count": null,
   "metadata": {},
   "outputs": [
    {
     "name": "stdout",
     "output_type": "stream",
     "text": [
      "[1,    20] loss: 0.001\n",
      "[1,    40] loss: 0.001\n",
      "[1,    60] loss: 0.001\n",
      "[1,    80] loss: 0.001\n",
      "[1,   100] loss: 0.001\n",
      "[1,   120] loss: 0.001\n",
      "[1,   140] loss: 0.001\n",
      "[1,   160] loss: 0.001\n",
      "[1,   180] loss: 0.001\n",
      "[1,   200] loss: 0.001\n",
      "[1,   220] loss: 0.001\n",
      "[1,   240] loss: 0.001\n",
      "[1,   260] loss: 0.001\n",
      "[1,   280] loss: 0.001\n",
      "[1,   300] loss: 0.001\n",
      "[1,   320] loss: 0.001\n",
      "[1,   340] loss: 0.001\n",
      "[1,   360] loss: 0.001\n",
      "[1,   380] loss: 0.001\n",
      "[1,   400] loss: 0.001\n",
      "[1,   420] loss: 0.001\n",
      "[1,   440] loss: 0.001\n",
      "[1,   460] loss: 0.001\n",
      "[1,   480] loss: 0.001\n",
      "[1,   500] loss: 0.001\n",
      "[1,   520] loss: 0.001\n",
      "[1,   540] loss: 0.001\n",
      "[1,   560] loss: 0.001\n",
      "[1,   580] loss: 0.001\n",
      "[1,   600] loss: 0.001\n",
      "[1,   620] loss: 0.001\n",
      "[1,   640] loss: 0.001\n",
      "[1,   660] loss: 0.001\n",
      "[1,   680] loss: 0.001\n",
      "[1,   700] loss: 0.001\n",
      "[1,   720] loss: 0.001\n",
      "[1,   740] loss: 0.001\n",
      "[1,   760] loss: 0.001\n",
      "[1,   780] loss: 0.001\n",
      "[1,   800] loss: 0.001\n",
      "[1,   820] loss: 0.001\n",
      "[1,   840] loss: 0.001\n",
      "[1,   860] loss: 0.001\n",
      "[1,   880] loss: 0.001\n",
      "[1,   900] loss: 0.001\n",
      "[1,   920] loss: 0.001\n",
      "[2,    20] loss: 0.001\n",
      "[2,    40] loss: 0.001\n",
      "[2,    60] loss: 0.001\n",
      "[2,    80] loss: 0.001\n",
      "[2,   100] loss: 0.001\n",
      "[2,   120] loss: 0.001\n",
      "[2,   140] loss: 0.001\n",
      "[2,   160] loss: 0.001\n",
      "[2,   180] loss: 0.001\n",
      "[2,   200] loss: 0.001\n",
      "[2,   220] loss: 0.001\n",
      "[2,   240] loss: 0.001\n",
      "[2,   260] loss: 0.001\n",
      "[2,   280] loss: 0.001\n",
      "[2,   300] loss: 0.001\n",
      "[2,   320] loss: 0.001\n",
      "[2,   340] loss: 0.001\n",
      "[2,   360] loss: 0.001\n",
      "[2,   380] loss: 0.001\n",
      "[2,   400] loss: 0.001\n",
      "[2,   420] loss: 0.001\n",
      "[2,   440] loss: 0.001\n",
      "[2,   460] loss: 0.001\n",
      "[2,   480] loss: 0.001\n",
      "[2,   500] loss: 0.001\n",
      "[2,   520] loss: 0.001\n",
      "[2,   540] loss: 0.001\n",
      "[2,   560] loss: 0.001\n",
      "[2,   580] loss: 0.001\n",
      "[2,   600] loss: 0.001\n",
      "[2,   620] loss: 0.001\n",
      "[2,   640] loss: 0.001\n",
      "[2,   660] loss: 0.001\n",
      "[2,   680] loss: 0.001\n",
      "[2,   700] loss: 0.001\n",
      "[2,   720] loss: 0.001\n",
      "[2,   740] loss: 0.001\n",
      "[2,   760] loss: 0.001\n",
      "[2,   780] loss: 0.001\n",
      "[2,   800] loss: 0.001\n",
      "[2,   820] loss: 0.001\n",
      "[2,   840] loss: 0.001\n",
      "[2,   860] loss: 0.001\n",
      "[2,   880] loss: 0.001\n",
      "[2,   900] loss: 0.001\n",
      "[2,   920] loss: 0.001\n",
      "[3,    20] loss: 0.001\n",
      "[3,    40] loss: 0.001\n",
      "[3,    60] loss: 0.001\n",
      "[3,    80] loss: 0.001\n",
      "[3,   100] loss: 0.001\n",
      "[3,   120] loss: 0.001\n",
      "[3,   140] loss: 0.001\n",
      "[3,   160] loss: 0.001\n",
      "[3,   180] loss: 0.001\n",
      "[3,   200] loss: 0.001\n",
      "[3,   220] loss: 0.001\n",
      "[3,   240] loss: 0.001\n",
      "[3,   260] loss: 0.001\n",
      "[3,   280] loss: 0.001\n",
      "[3,   300] loss: 0.001\n",
      "[3,   320] loss: 0.001\n",
      "[3,   340] loss: 0.001\n",
      "[3,   360] loss: 0.001\n",
      "[3,   380] loss: 0.001\n",
      "[3,   400] loss: 0.001\n"
     ]
    }
   ],
   "source": [
    "for epoch in range(5): # loop over the dataset multiple times\n",
    "\n",
    "    running_loss = 0.0\n",
    "    for i, data in enumerate(trainloader, 0):\n",
    "        # get the inputs\n",
    "        inputs, labels = data\n",
    "\n",
    "        # zero the parameter gradients\n",
    "        optimizer.zero_grad()\n",
    "\n",
    "        # forward + backward + optimize\n",
    "        outputs = net(inputs)\n",
    "        loss = criterion(outputs, labels)\n",
    "        loss.backward()\n",
    "        optimizer.step()\n",
    "\n",
    "        # print statistics\n",
    "        running_loss += loss.item()\n",
    "        if i % 20 == 19:    # print every 2000 mini-batches\n",
    "            print('[%d, %5d] loss: %.3f' %\n",
    "                  (epoch + 1, i + 1, running_loss / 2000))\n",
    "            running_loss = 0.0\n",
    "\n",
    "print('Finished Training')"
   ]
  },
  {
   "cell_type": "code",
   "execution_count": null,
   "metadata": {},
   "outputs": [],
   "source": [
    "correct = 0\n",
    "total = 0\n",
    "\n",
    "with torch.no_grad():\n",
    "    for data in test_loader:\n",
    "        images, labels = data\n",
    "        _, labels =  torch.max(labels,1)\n",
    "        outputs = net(images)\n",
    "        _, predicted = torch.max(outputs.data, 1)\n",
    "        total += labels.size(0)\n",
    "        correct += (predicted == labels).sum().item()\n",
    "\n",
    "print('Accuracy of the network on the 10000 test images: %d %%' % (100 * correct / total))"
   ]
  },
  {
   "cell_type": "code",
   "execution_count": 12,
   "metadata": {},
   "outputs": [
    {
     "name": "stdout",
     "output_type": "stream",
     "text": [
      "[[0.         0.         0.         0.         0.         0.\n",
      "  0.         0.         0.         0.         0.         0.\n",
      "  0.         0.         0.         0.         0.         0.\n",
      "  0.         0.         0.         0.         0.         0.\n",
      "  0.         0.         0.         0.        ]\n",
      " [0.         0.         0.         0.         0.         0.\n",
      "  0.         0.         0.         0.         0.         0.\n",
      "  0.         0.         0.         0.         0.         0.\n",
      "  0.         0.         0.         0.         0.         0.\n",
      "  0.         0.         0.         0.        ]\n",
      " [0.         0.         0.         0.         0.         0.\n",
      "  0.         0.         0.         0.         0.         0.\n",
      "  0.         0.         0.5        0.5        0.5        0.5\n",
      "  0.5        0.5        0.5        0.         0.         0.\n",
      "  0.         0.         0.         0.        ]\n",
      " [0.         0.         0.         0.         0.         0.\n",
      "  0.         0.         0.         0.         0.5        0.5\n",
      "  0.5        0.5        0.5        0.5        0.5        0.5\n",
      "  0.5        0.5        0.5        0.         0.         0.\n",
      "  0.         0.         0.         0.        ]\n",
      " [0.         0.         0.         0.         0.         0.\n",
      "  0.         0.         0.         0.5        0.5        0.5\n",
      "  0.5        0.5        0.5        0.5        0.5        0.5\n",
      "  0.5        0.5        0.5        0.5        0.5        0.5\n",
      "  0.         0.         0.         0.        ]\n",
      " [0.         0.         0.         0.5        0.5        0.5\n",
      "  0.5        0.5        0.5        0.5        0.5        0.5\n",
      "  0.5        0.5        0.5        0.68312957 0.81526336 0.83833141\n",
      "  0.58255286 0.60377547 0.5        0.5        0.5        0.5\n",
      "  0.         0.         0.         0.        ]\n",
      " [0.         0.         0.         0.5        0.5        0.5\n",
      "  0.5        0.5        0.5        0.5        0.5        0.5\n",
      "  0.5        0.88464877 0.19347139 0.         0.         0.\n",
      "  0.         0.23922417 0.5        0.5        0.5        0.5\n",
      "  0.5        0.5        0.         0.        ]\n",
      " [0.         0.         0.         0.5        0.5        0.5\n",
      "  0.5        0.5        0.5        0.5        0.5        0.93243919\n",
      "  0.18953479 0.         0.         0.         0.         0.\n",
      "  0.         0.         0.93060361 0.5        0.5        0.5\n",
      "  0.5        0.5        0.         0.        ]\n",
      " [0.         0.         0.         0.5        0.5        0.5\n",
      "  0.5        0.5        0.5        0.70832042 0.18379937 0.\n",
      "  0.         0.         0.         0.         0.86804306 0.91196463\n",
      "  0.         0.         0.9982699  0.5        0.5        0.5\n",
      "  0.5        0.5        0.         0.        ]\n",
      " [0.         0.5        0.         0.5        0.5        0.5\n",
      "  0.5        0.5        0.5        0.86902474 0.         0.\n",
      "  0.         0.         0.         0.85143406 0.5        0.91292083\n",
      "  0.         0.         0.9982699  0.5        0.5        0.5\n",
      "  0.5        0.5        0.         0.        ]\n",
      " [0.         0.5        0.         0.5        0.5        0.5\n",
      "  0.5        0.5        0.5        0.0129258  0.         0.\n",
      "  0.         0.0723491  0.85986159 0.5        0.5        0.97740095\n",
      "  0.         0.         0.9982699  0.5        0.5        0.5\n",
      "  0.5        0.         0.         0.        ]\n",
      " [0.         0.         0.         0.5        0.5        0.5\n",
      "  0.5        0.5        0.5        0.82562465 0.49218762 0.99593233\n",
      "  0.78555171 0.5        0.5        0.5        0.5        0.83833141\n",
      "  0.         0.         0.9982699  0.5        0.5        0.5\n",
      "  0.5        0.         0.         0.        ]\n",
      " [0.         0.         0.         0.5        0.5        0.5\n",
      "  0.5        0.5        0.5        0.5        0.5        0.5\n",
      "  0.5        0.5        0.5        0.5        0.5        0.14432141\n",
      "  0.         0.         0.9982699  0.5        0.5        0.5\n",
      "  0.5        0.         0.         0.        ]\n",
      " [0.         0.         0.         0.5        0.5        0.5\n",
      "  0.5        0.5        0.5        0.5        0.5        0.5\n",
      "  0.5        0.73683199 0.59676278 0.58255286 0.59676278 0.\n",
      "  0.         0.         0.54595156 0.5        0.5        0.5\n",
      "  0.5        0.         0.         0.        ]\n",
      " [0.         0.         0.         0.5        0.5        0.5\n",
      "  0.5        0.5        0.5        0.5        0.64455978 0.98578239\n",
      "  0.01846213 0.         0.         0.         0.         0.\n",
      "  0.         0.89830834 0.5        0.5        0.5        0.5\n",
      "  0.5        0.5        0.         0.        ]\n",
      " [0.         0.         0.         0.5        0.5        0.5\n",
      "  0.5        0.5        0.57564015 0.9883045  0.         0.\n",
      "  0.         0.         0.05555556 0.         0.         0.\n",
      "  0.         0.65114187 0.58968858 0.5        0.5        0.5\n",
      "  0.5        0.5        0.         0.        ]\n",
      " [0.         0.         0.         0.         0.5        0.5\n",
      "  0.5        0.59002418 0.9750173  0.         0.         0.53100006\n",
      "  0.9977425  0.5        0.74249135 0.         0.         0.\n",
      "  0.         0.         0.93349481 0.60377547 0.5        0.5\n",
      "  0.5        0.         0.         0.        ]\n",
      " [0.         0.         0.         0.         0.5        0.5\n",
      "  0.57535563 0.38195176 0.         0.         0.01557093 0.72022444\n",
      "  0.5        0.77602455 0.         0.         0.         0.46899994\n",
      "  0.04097655 0.         0.         0.00523901 0.99905482 0.9983358\n",
      "  0.97323337 0.         0.         0.        ]\n",
      " [0.         0.         0.         0.         0.5        0.54666593\n",
      "  0.36108204 0.         0.         0.78038447 0.73111111 0.5\n",
      "  0.98632897 0.         0.         0.         0.999721   0.5\n",
      "  0.69549404 0.9916263  0.09818531 0.         0.         0.\n",
      "  0.         0.         0.         0.        ]\n",
      " [0.         0.         0.         0.         0.5        0.79065744\n",
      "  0.         0.         0.9276509  0.74249135 0.98947328 0.0521111\n",
      "  0.         0.         0.5232526  0.85143406 0.5        0.5\n",
      "  0.5        0.5        0.5        0.91712884 0.01188114 0.01557093\n",
      "  0.95552478 0.         0.         0.        ]\n",
      " [0.         0.         0.         0.         0.5        0.\n",
      "  0.         0.         0.         0.         0.         0.\n",
      "  0.         0.55339485 0.54595156 0.5        0.5        0.5\n",
      "  0.5        0.5        0.5        0.5        0.5        0.5\n",
      "  0.5        0.         0.         0.        ]\n",
      " [0.         0.         0.         0.         0.5        0.\n",
      "  0.         0.         0.         0.         0.02159938 0.66412149\n",
      "  0.90525952 0.56077662 0.5        0.5        0.5        0.5\n",
      "  0.5        0.5        0.5        0.5        0.5        0.5\n",
      "  0.5        0.         0.         0.        ]\n",
      " [0.         0.         0.         0.         0.5        0.68441157\n",
      "  0.89474048 0.28642061 0.59676278 0.79570165 0.58968858 0.5\n",
      "  0.5        0.5        0.5        0.5        0.5        0.5\n",
      "  0.5        0.5        0.5        0.5        0.5        0.5\n",
      "  0.         0.         0.         0.        ]\n",
      " [0.         0.         0.         0.         0.5        0.5\n",
      "  0.5        0.5        0.5        0.5        0.5        0.5\n",
      "  0.5        0.5        0.5        0.5        0.5        0.5\n",
      "  0.5        0.5        0.5        0.5        0.5        0.5\n",
      "  0.         0.         0.         0.        ]\n",
      " [0.         0.         0.         0.         0.5        0.5\n",
      "  0.5        0.5        0.5        0.5        0.5        0.5\n",
      "  0.5        0.5        0.5        0.5        0.5        0.5\n",
      "  0.5        0.5        0.5        0.5        0.5        0.5\n",
      "  0.         0.         0.         0.        ]\n",
      " [0.         0.         0.         0.         0.         0.\n",
      "  0.5        0.5        0.5        0.5        0.5        0.5\n",
      "  0.5        0.5        0.5        0.5        0.5        0.5\n",
      "  0.5        0.5        0.5        0.         0.         0.\n",
      "  0.         0.         0.         0.        ]\n",
      " [0.         0.         0.         0.         0.         0.5\n",
      "  0.5        0.5        0.5        0.5        0.5        0.5\n",
      "  0.5        0.5        0.5        0.5        0.5        0.5\n",
      "  0.5        0.         0.         0.         0.         0.\n",
      "  0.         0.         0.         0.        ]\n",
      " [0.         0.         0.         0.         0.         0.5\n",
      "  0.5        0.5        0.5        0.         0.         0.\n",
      "  0.         0.         0.         0.         0.         0.\n",
      "  0.         0.         0.         0.         0.         0.\n",
      "  0.         0.         0.         0.        ]]\n"
     ]
    }
   ],
   "source": [
    "print(x_train_fuzzy[index][0].reshape(28,28))"
   ]
  },
  {
   "cell_type": "code",
   "execution_count": 13,
   "metadata": {},
   "outputs": [
    {
     "data": {
      "text/plain": [
       "array([0.        , 0.        , 0.        , 0.        , 0.        ,\n",
       "       0.        , 0.        , 0.        , 0.        , 0.        ,\n",
       "       0.        , 0.        , 0.        , 0.        , 0.        ,\n",
       "       0.        , 0.        , 0.        , 0.        , 0.        ,\n",
       "       0.        , 0.        , 0.        , 0.        , 0.        ,\n",
       "       0.        , 0.        , 0.        , 0.        , 0.        ,\n",
       "       0.        , 0.        , 0.        , 0.        , 0.        ,\n",
       "       0.        , 0.        , 0.        , 0.        , 0.        ,\n",
       "       0.        , 0.        , 0.        , 0.        , 0.        ,\n",
       "       0.        , 0.        , 0.        , 0.        , 0.        ,\n",
       "       0.        , 0.        , 0.        , 0.        , 0.        ,\n",
       "       0.        , 0.        , 0.        , 0.        , 0.        ,\n",
       "       0.        , 0.        , 0.        , 0.        , 0.        ,\n",
       "       0.        , 0.        , 0.        , 0.        , 0.        ,\n",
       "       0.        , 0.        , 0.        , 0.        , 0.        ,\n",
       "       0.        , 0.        , 0.        , 0.        , 0.        ,\n",
       "       0.        , 0.        , 0.        , 0.        , 0.        ,\n",
       "       0.        , 0.        , 0.        , 0.        , 0.        ,\n",
       "       0.        , 0.        , 0.        , 0.        , 0.        ,\n",
       "       0.        , 0.        , 0.        , 0.        , 0.        ,\n",
       "       0.        , 0.        , 0.        , 0.        , 0.        ,\n",
       "       0.        , 0.        , 0.        , 0.        , 0.        ,\n",
       "       0.        , 0.        , 0.        , 0.        , 0.        ,\n",
       "       0.        , 0.        , 0.        , 0.        , 0.        ,\n",
       "       0.        , 0.        , 0.        , 0.        , 0.        ,\n",
       "       0.        , 0.        , 0.        , 0.        , 0.        ,\n",
       "       0.        , 0.        , 0.        , 0.        , 0.        ,\n",
       "       0.        , 0.        , 0.        , 0.        , 0.        ,\n",
       "       0.        , 0.        , 0.        , 0.        , 0.        ,\n",
       "       0.        , 0.        , 0.        , 0.        , 0.        ,\n",
       "       0.        , 0.        , 0.        , 0.        , 0.        ,\n",
       "       0.05098039, 0.09803922, 0.39215686, 0.47843137, 0.02745098,\n",
       "       0.        , 0.        , 0.        , 0.        , 0.        ,\n",
       "       0.        , 0.        , 0.        , 0.        , 0.        ,\n",
       "       0.        , 0.        , 0.        , 0.        , 0.        ,\n",
       "       0.        , 0.        , 0.        , 0.        , 0.        ,\n",
       "       0.        , 0.12941176, 0.59215686, 0.81568627, 0.98823529,\n",
       "       0.98823529, 0.98823529, 0.57254902, 0.        , 0.        ,\n",
       "       0.        , 0.        , 0.        , 0.        , 0.        ,\n",
       "       0.        , 0.        , 0.        , 0.        , 0.        ,\n",
       "       0.        , 0.        , 0.        , 0.        , 0.        ,\n",
       "       0.        , 0.        , 0.15686275, 0.59607843, 0.95686275,\n",
       "       0.98823529, 0.99215686, 0.87843137, 0.82745098, 0.98823529,\n",
       "       0.90980392, 0.15686275, 0.        , 0.        , 0.        ,\n",
       "       0.        , 0.        , 0.        , 0.        , 0.        ,\n",
       "       0.        , 0.        , 0.        , 0.        , 0.        ,\n",
       "       0.        , 0.        , 0.        , 0.05882353, 0.59607843,\n",
       "       0.9372549 , 0.98823529, 0.98823529, 0.98823529, 0.84705882,\n",
       "       0.12156863, 0.14509804, 0.98823529, 0.98823529, 0.23529412,\n",
       "       0.        , 0.        , 0.        , 0.        , 0.        ,\n",
       "       0.        , 0.        , 0.        , 0.        , 0.        ,\n",
       "       0.        , 0.        , 0.        , 0.        , 0.        ,\n",
       "       0.        , 0.37647059, 0.98823529, 0.98823529, 0.98823529,\n",
       "       0.98823529, 0.85098039, 0.11372549, 0.        , 0.14509804,\n",
       "       0.98823529, 0.98823529, 0.23529412, 0.        , 0.        ,\n",
       "       0.        , 0.        , 0.        , 0.        , 0.        ,\n",
       "       0.        , 0.        , 0.        , 0.        , 0.        ,\n",
       "       0.        , 0.        , 0.        , 0.        , 0.70980392,\n",
       "       0.98823529, 0.98823529, 0.8627451 , 0.65490196, 0.11764706,\n",
       "       0.        , 0.        , 0.30196078, 0.98823529, 0.98823529,\n",
       "       0.23529412, 0.        , 0.        , 0.        , 0.        ,\n",
       "       0.        , 0.        , 0.        , 0.        , 0.        ,\n",
       "       0.        , 0.        , 0.        , 0.        , 0.        ,\n",
       "       0.        , 0.        , 0.10196078, 0.50196078, 0.22745098,\n",
       "       0.08627451, 0.        , 0.        , 0.        , 0.        ,\n",
       "       0.39215686, 0.98823529, 0.98823529, 0.23529412, 0.        ,\n",
       "       0.        , 0.        , 0.        , 0.        , 0.        ,\n",
       "       0.        , 0.        , 0.        , 0.        , 0.        ,\n",
       "       0.        , 0.        , 0.        , 0.        , 0.        ,\n",
       "       0.        , 0.        , 0.        , 0.        , 0.        ,\n",
       "       0.        , 0.        , 0.        , 0.61568627, 0.98823529,\n",
       "       0.98823529, 0.23529412, 0.        , 0.        , 0.        ,\n",
       "       0.        , 0.        , 0.        , 0.        , 0.        ,\n",
       "       0.        , 0.        , 0.        , 0.        , 0.        ,\n",
       "       0.        , 0.        , 0.        , 0.        , 0.        ,\n",
       "       0.        , 0.        , 0.43137255, 0.4745098 , 0.47843137,\n",
       "       0.4745098 , 0.79215686, 0.98823529, 0.76078431, 0.01176471,\n",
       "       0.        , 0.        , 0.        , 0.        , 0.        ,\n",
       "       0.        , 0.        , 0.        , 0.        , 0.        ,\n",
       "       0.        , 0.        , 0.        , 0.        , 0.        ,\n",
       "       0.        , 0.        , 0.03921569, 0.20784314, 0.70196078,\n",
       "       0.99215686, 0.99215686, 1.        , 0.99215686, 0.99215686,\n",
       "       0.89411765, 0.1372549 , 0.        , 0.        , 0.        ,\n",
       "       0.        , 0.        , 0.        , 0.        , 0.        ,\n",
       "       0.        , 0.        , 0.        , 0.        , 0.        ,\n",
       "       0.        , 0.        , 0.        , 0.01960784, 0.21176471,\n",
       "       0.89019608, 0.98823529, 0.95294118, 0.89411765, 0.66666667,\n",
       "       0.94901961, 0.98823529, 0.98823529, 0.90588235, 0.45882353,\n",
       "       0.02352941, 0.        , 0.        , 0.        , 0.        ,\n",
       "       0.        , 0.        , 0.        , 0.        , 0.        ,\n",
       "       0.        , 0.        , 0.        , 0.        , 0.        ,\n",
       "       0.02352941, 0.30588235, 0.98823529, 0.98823529, 0.49019608,\n",
       "       0.23137255, 0.        , 0.07058824, 0.81568627, 0.98823529,\n",
       "       0.98823529, 0.98823529, 0.98823529, 0.34117647, 0.02745098,\n",
       "       0.        , 0.        , 0.        , 0.        , 0.        ,\n",
       "       0.        , 0.        , 0.        , 0.        , 0.        ,\n",
       "       0.        , 0.        , 0.01960784, 0.52941176, 0.98823529,\n",
       "       0.98823529, 0.70588235, 0.0627451 , 0.        , 0.08235294,\n",
       "       0.79607843, 0.99215686, 0.96862745, 0.50588235, 0.67843137,\n",
       "       0.98823529, 0.98823529, 0.72156863, 0.25882353, 0.19215686,\n",
       "       0.19215686, 0.        , 0.        , 0.        , 0.        ,\n",
       "       0.        , 0.        , 0.        , 0.        , 0.01176471,\n",
       "       0.53333333, 0.98823529, 0.94509804, 0.41568627, 0.06666667,\n",
       "       0.        , 0.20784314, 0.78431373, 0.98823529, 0.84705882,\n",
       "       0.25490196, 0.        , 0.05490196, 0.28235294, 0.63921569,\n",
       "       0.94509804, 0.98823529, 0.98823529, 0.8745098 , 0.        ,\n",
       "       0.        , 0.        , 0.        , 0.        , 0.        ,\n",
       "       0.        , 0.        , 0.41176471, 0.98823529, 0.94901961,\n",
       "       0.34509804, 0.07058824, 0.28627451, 0.66666667, 0.95686275,\n",
       "       0.98823529, 0.49411765, 0.11372549, 0.        , 0.        ,\n",
       "       0.        , 0.        , 0.        , 0.34901961, 0.70588235,\n",
       "       0.70588235, 0.14509804, 0.        , 0.        , 0.        ,\n",
       "       0.        , 0.        , 0.        , 0.        , 0.        ,\n",
       "       0.90588235, 0.98823529, 0.96078431, 0.80392157, 0.84705882,\n",
       "       0.98823529, 0.98823529, 0.98823529, 0.48627451, 0.01176471,\n",
       "       0.        , 0.        , 0.        , 0.        , 0.        ,\n",
       "       0.        , 0.        , 0.        , 0.        , 0.        ,\n",
       "       0.        , 0.        , 0.        , 0.        , 0.        ,\n",
       "       0.        , 0.        , 0.        , 0.81176471, 0.98823529,\n",
       "       0.98823529, 0.98823529, 0.98823529, 0.69803922, 0.45490196,\n",
       "       0.14117647, 0.01568627, 0.        , 0.        , 0.        ,\n",
       "       0.        , 0.        , 0.        , 0.        , 0.        ,\n",
       "       0.        , 0.        , 0.        , 0.        , 0.        ,\n",
       "       0.        , 0.        , 0.        , 0.        , 0.        ,\n",
       "       0.        , 0.05098039, 0.36470588, 0.56078431, 0.4745098 ,\n",
       "       0.09019608, 0.02352941, 0.        , 0.        , 0.        ,\n",
       "       0.        , 0.        , 0.        , 0.        , 0.        ,\n",
       "       0.        , 0.        , 0.        , 0.        , 0.        ,\n",
       "       0.        , 0.        , 0.        , 0.        , 0.        ,\n",
       "       0.        , 0.        , 0.        , 0.        , 0.        ,\n",
       "       0.        , 0.        , 0.        , 0.        , 0.        ,\n",
       "       0.        , 0.        , 0.        , 0.        , 0.        ,\n",
       "       0.        , 0.        , 0.        , 0.        , 0.        ,\n",
       "       0.        , 0.        , 0.        , 0.        , 0.        ,\n",
       "       0.        , 0.        , 0.        , 0.        , 0.        ,\n",
       "       0.        , 0.        , 0.        , 0.        , 0.        ,\n",
       "       0.        , 0.        , 0.        , 0.        , 0.        ,\n",
       "       0.        , 0.        , 0.        , 0.        , 0.        ,\n",
       "       0.        , 0.        , 0.        , 0.        , 0.        ,\n",
       "       0.        , 0.        , 0.        , 0.        , 0.        ,\n",
       "       0.        , 0.        , 0.        , 0.        , 0.        ,\n",
       "       0.        , 0.        , 0.        , 0.        , 0.        ,\n",
       "       0.        , 0.        , 0.        , 0.        , 0.        ,\n",
       "       0.        , 0.        , 0.        , 0.        , 0.        ,\n",
       "       0.        , 0.        , 0.        , 0.        , 0.        ,\n",
       "       0.        , 0.        , 0.        , 0.        , 0.        ,\n",
       "       0.        , 0.        , 0.        , 0.        , 0.        ,\n",
       "       0.        , 0.        , 0.        , 0.        , 0.        ,\n",
       "       0.        , 0.        , 0.        , 0.        , 0.        ,\n",
       "       0.        , 0.        , 0.        , 0.        , 0.        ,\n",
       "       0.        , 0.        , 0.        , 0.        , 0.        ,\n",
       "       0.        , 0.        , 0.        , 0.        , 0.        ,\n",
       "       0.        , 0.        , 0.        , 0.        , 0.        ,\n",
       "       0.        , 0.        , 0.        , 0.        , 0.        ,\n",
       "       0.        , 0.        , 0.        , 0.        , 0.        ,\n",
       "       0.        , 0.        , 0.        , 0.        , 0.        ,\n",
       "       0.        , 0.        , 0.        , 0.        ])"
      ]
     },
     "execution_count": 13,
     "metadata": {},
     "output_type": "execute_result"
    }
   ],
   "source": [
    "x_train[5]"
   ]
  },
  {
   "cell_type": "code",
   "execution_count": null,
   "metadata": {},
   "outputs": [],
   "source": []
  }
 ],
 "metadata": {
  "kernelspec": {
   "display_name": "Python 3",
   "language": "python",
   "name": "python3"
  },
  "language_info": {
   "codemirror_mode": {
    "name": "ipython",
    "version": 3
   },
   "file_extension": ".py",
   "mimetype": "text/x-python",
   "name": "python",
   "nbconvert_exporter": "python",
   "pygments_lexer": "ipython3",
   "version": "3.7.4"
  }
 },
 "nbformat": 4,
 "nbformat_minor": 2
}
