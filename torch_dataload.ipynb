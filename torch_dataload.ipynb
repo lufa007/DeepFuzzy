{
 "cells": [
  {
   "cell_type": "code",
   "execution_count": null,
   "metadata": {},
   "outputs": [],
   "source": [
    "class MyDataset(Dataset):\n",
    "    \"\"\"\n",
    "    This dataset contains a list of numbers in the range [a,b] inclusive\n",
    "    \"\"\"\n",
    "    def __init__(self, x_train, x_test, y_train, y_test, train = True):\n",
    "        super(MyDataset, self).__init__()\n",
    "        self.x_train = x_train\n",
    "        self.x_test = x_test\n",
    "        self.y_train = y_train\n",
    "        self.y_test = y_test\n",
    "        self.train = train\n",
    "        \n",
    "    def __len__(self):\n",
    "        if train == True:\n",
    "            return x_train.shape[0]\n",
    "        else:\n",
    "            return x_test.shape[0]\n",
    "        \n",
    "    def __getitem__(self, index):\n",
    "        if train == True\n",
    "            return x_train[index], y_train[index]\n",
    "        else:\n",
    "            return x_test[index], y_test[index]"
   ]
  }
 ],
 "metadata": {
  "kernelspec": {
   "display_name": "Python 3",
   "language": "python",
   "name": "python3"
  },
  "language_info": {
   "codemirror_mode": {
    "name": "ipython",
    "version": 3
   },
   "file_extension": ".py",
   "mimetype": "text/x-python",
   "name": "python",
   "nbconvert_exporter": "python",
   "pygments_lexer": "ipython3",
   "version": "3.6.7"
  }
 },
 "nbformat": 4,
 "nbformat_minor": 2
}
