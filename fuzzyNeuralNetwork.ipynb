{
 "cells": [
  {
   "cell_type": "code",
   "execution_count": null,
   "metadata": {},
   "outputs": [],
   "source": [
    "#To use this on google colaboratory\n",
    "try:\n",
    "    from dnn_tf import dnn\n",
    "except:\n",
    "    !rm -f -r DeepFuzzy\n",
    "    !git clone https://github.com/tanishqjasoria/DeepFuzzy.git\n",
    "    import sys\n",
    "    sys.path.insert(0,'/content/DeepFuzzy')\n"
   ]
  },
  {
   "cell_type": "code",
   "execution_count": 4,
   "metadata": {},
   "outputs": [],
   "source": [
    "import matplotlib as plt\n",
    "from matplotlib.pyplot import imshow\n",
    "import numpy as np\n",
    "from random import sample\n",
    "import tensorflow.keras.datasets as datasets\n",
    "from dnn_tf import dnn\n",
    "import tensorflow as tf\n",
    "import math\n",
    "import matplotlib.pyplot as plt\n",
    "import time\n",
    "# import nn_fuzzy\n",
    "%matplotlib inline"
   ]
  },
  {
   "cell_type": "code",
   "execution_count": 5,
   "metadata": {},
   "outputs": [
    {
     "name": "stdout",
     "output_type": "stream",
     "text": [
      "Layers:  [784, 256, 10]\n",
      "Learning Rate:  0.01\n",
      "Number of MiniBatch:  128\n",
      "Iterations:  10000\n",
      "Layers:  [2352, 256, 10]\n",
      "Learning Rate:  0.01\n",
      "Number of MiniBatch:  128\n",
      "Iterations:  10000\n",
      "Layers:  [39, 8, 2]\n",
      "Learning Rate:  0.01\n",
      "Number of MiniBatch:  16\n",
      "Iterations:  10000\n"
     ]
    }
   ],
   "source": [
    "#Parameters - To be defined by user\n",
    "nClass = 10\n",
    "nHidden = [256]\n",
    "nInput = 784\n",
    "layers = [nInput] + nHidden + [nClass]\n",
    "limit = 0.0001\n",
    "#Hyperparameters - To be tuned by the user\n",
    "learning_rate = 0.01\n",
    "nMiniBatch = 128\n",
    "nIter = 10000\n",
    "print(\"Layers: \", layers)\n",
    "print(\"Learning Rate: \", learning_rate)\n",
    "print(\"Number of MiniBatch: \", nMiniBatch)\n",
    "print(\"Iterations: \", nIter)\n",
    "\n",
    "#Parameters (for fuzzy)- To be defined by user\n",
    "nClass_fuzzy = 10\n",
    "nHidden_fuzzy = [256]\n",
    "nInput_fuzzy = 784 * 3\n",
    "layers_fuzzy = [nInput_fuzzy] + nHidden_fuzzy + [nClass_fuzzy]\n",
    "limit = 0.0001\n",
    "#Hyperparameters - To be tuned by the user\n",
    "learning_rate = 0.01\n",
    "nMiniBatch = 128\n",
    "nIter = 10000\n",
    "print(\"Layers: \", layers_fuzzy)\n",
    "print(\"Learning Rate: \", learning_rate)\n",
    "print(\"Number of MiniBatch: \", nMiniBatch)\n",
    "print(\"Iterations: \", nIter)\n",
    "\n",
    "#Parameters (for heart)- To be defined by user\n",
    "nClass_heart = 2\n",
    "nHidden_heart = [8]\n",
    "nInput_heart = 13 * 3\n",
    "layers_heart = [nInput_heart] + nHidden_heart + [nClass_heart]\n",
    "limit = 0.0001\n",
    "#Hyperparameters - To be tuned by the user\n",
    "learning_rate = 0.01\n",
    "nMiniBatch = 16\n",
    "nIter = 10000\n",
    "print(\"Layers: \", layers_heart)\n",
    "print(\"Learning Rate: \", learning_rate)\n",
    "print(\"Number of MiniBatch: \", nMiniBatch)\n",
    "print(\"Iterations: \", nIter)"
   ]
  },
  {
   "cell_type": "code",
   "execution_count": 6,
   "metadata": {},
   "outputs": [],
   "source": [
    "#-------data input function-----------------------------#\n",
    "def getDataset(name, nClass):\n",
    "    if name==\"mnist\":\n",
    "        dataset = datasets.mnist\n",
    "    (x_train, y_train),(x_test, y_test) = dataset.load_data()     #downloading and loading the dataset\n",
    "    x_train, x_test = x_train / 255.0, x_test / 255.0             #normalizing the input data\n",
    "    x_train_flat = x_train.reshape(x_train.shape[0],-1)         #making dataset suitable for input in Fully Connected layer\n",
    "    x_test_flat = x_test.reshape(x_test.shape[0],-1)          #making dataset suitable for input in Fully Connected layer\n",
    "    y_train_onehot = np.eye(nClass)[y_train]                    #converting to one hot vectors\n",
    "    y_test_onehot = np.eye(nClass)[y_test]                     #converting to one hot vectors\n",
    "    print(x_train_flat.shape)\n",
    "    print(y_train_onehot.shape)\n",
    "    x_train_batch = np.array_split(x_train_flat, int(60000/128))\n",
    "    print(x_train_batch[2].shape)\n",
    "    return x_train_flat,x_test_flat,y_train_onehot,y_test_onehot\n"
   ]
  },
  {
   "cell_type": "code",
   "execution_count": 7,
   "metadata": {},
   "outputs": [
    {
     "name": "stdout",
     "output_type": "stream",
     "text": [
      "(60000, 784)\n",
      "(60000, 10)\n",
      "(129, 784)\n"
     ]
    }
   ],
   "source": [
    "# heart = np.load('heart.npy')\n",
    "\n",
    "x_train, x_test, y_train, y_test = getDataset(\"mnist\", 10)\n",
    "# x_train_fuzzy, x_test_fuzzy, y_train_fuzzy, y_test_fuzzy = nn_fuzzy.fuzzify_dataset(x_train[:1000], x_test[:1000], y_train, y_test, cnn=1)\n",
    "# x_train_fuzzy = np.load(\"x_train_fuzzy.npy\")\n",
    "# x_test_fuzzy = np.load(\"x_test_fuzzy.npy\")\n",
    "# y_train_fuzzy = np.load(\"y_train_fuzzy.npy\")\n",
    "# y_test_fuzzy = np.load(\"y_test_fuzzy.npy\")"
   ]
  },
  {
   "cell_type": "code",
   "execution_count": 9,
   "metadata": {},
   "outputs": [
    {
     "data": {
      "text/plain": [
       "(784,)"
      ]
     },
     "execution_count": 9,
     "metadata": {},
     "output_type": "execute_result"
    }
   ],
   "source": [
    "x_train[1].shape"
   ]
  },
  {
   "cell_type": "code",
   "execution_count": 24,
   "metadata": {},
   "outputs": [
    {
     "data": {
      "text/plain": [
       "(28, 28)"
      ]
     },
     "execution_count": 24,
     "metadata": {},
     "output_type": "execute_result"
    }
   ],
   "source": [
    "x_reshape[1][1].shape"
   ]
  },
  {
   "cell_type": "code",
   "execution_count": null,
   "metadata": {},
   "outputs": [],
   "source": [
    "heart_dict = heart.item()\n",
    "x_train = np.array(heart_dict['x_train'])\n",
    "x_test = np.array(heart_dict['x_test'])\n",
    "y_train_flat = np.array(heart_dict['y_train'])\n",
    "y_test_flat = np.array(heart_dict['y_test'])"
   ]
  },
  {
   "cell_type": "code",
   "execution_count": null,
   "metadata": {},
   "outputs": [],
   "source": [
    "y_train = []\n",
    "for i in y_train_flat:\n",
    "    if i==0:\n",
    "        y_train.append([1,0])\n",
    "    elif i==1:\n",
    "        y_train.append([0,1])\n",
    "y_train = np.array(y_train)"
   ]
  },
  {
   "cell_type": "code",
   "execution_count": null,
   "metadata": {},
   "outputs": [],
   "source": [
    "y_test = []\n",
    "for i in y_test_flat:\n",
    "    if i==0:\n",
    "        y_test.append([1,0])\n",
    "    elif i==1:\n",
    "        y_test.append([0,1])\n",
    "y_test = np.array(y_test)"
   ]
  },
  {
   "cell_type": "code",
   "execution_count": null,
   "metadata": {},
   "outputs": [],
   "source": [
    "x_train_fuzzy, x_test_fuzzy, y_train_fuzzy, y_test_fuzzy = fuzzify_dataset(x_train, x_test, y_train, y_test)\n",
    "# np.save(\"x_train_fuzzy\", x_train_fuzzy)\n",
    "# np.save(\"x_test_fuzzy\", x_test_fuzzy)\n",
    "# np.save(\"y_train_fuzzy\", y_train_fuzzy)\n",
    "# np.save(\"y_test_fuzzy\", y_test_fuzzy)"
   ]
  },
  {
   "cell_type": "code",
   "execution_count": null,
   "metadata": {},
   "outputs": [],
   "source": [
    "for i in range(len(y_train_fuzzy)):\n",
    "    if(y_train[i][1] == 1):\n",
    "        print(y_train_fuzzy[i], end =' ')\n",
    "        print(y_train[i])"
   ]
  },
  {
   "cell_type": "code",
   "execution_count": null,
   "metadata": {},
   "outputs": [],
   "source": [
    "for i in x_test_fuzzy:\n",
    "    print(i)"
   ]
  },
  {
   "cell_type": "code",
   "execution_count": null,
   "metadata": {},
   "outputs": [],
   "source": [
    "def main():\n",
    "    #x_train, x_test, y_train, y_test = getDataset(\"mnist\", nClass)\n",
    "#     test = dnn(layers, x_train, x_test, y_train, y_test, nMiniBatch, learning_rate=0.01, training_epochs=100)\n",
    "    test = dnn(layers_heart, x_train_fuzzy, x_test_fuzzy, y_train_fuzzy, y_test_fuzzy, nMiniBatch, learning_rate=0.001, training_epochs=5000)\n",
    "    test.initialize()\n",
    "    test.forwardProp()\n",
    "    test.train()\n",
    "    #test.test()"
   ]
  },
  {
   "cell_type": "code",
   "execution_count": null,
   "metadata": {},
   "outputs": [],
   "source": [
    "if __name__ == \"__main__\":\n",
    "    main()"
   ]
  },
  {
   "cell_type": "code",
   "execution_count": null,
   "metadata": {},
   "outputs": [],
   "source": [
    "# IGNORE FOLLOWING CELLS AS THEY WERE/ARE USED FOR OPTIMIZATION"
   ]
  },
  {
   "cell_type": "code",
   "execution_count": null,
   "metadata": {},
   "outputs": [],
   "source": [
    "print(tf.__version__)"
   ]
  },
  {
   "cell_type": "code",
   "execution_count": null,
   "metadata": {},
   "outputs": [],
   "source": [
    "weighted_distance, mean = output_normalize(x_train, y_train)\n",
    "out = output_membership_function(y_train.shape[1], weighted_distance)"
   ]
  },
  {
   "cell_type": "code",
   "execution_count": null,
   "metadata": {},
   "outputs": [],
   "source": [
    "plt.imshow(mean_reshape[4], cmap='Greys')"
   ]
  },
  {
   "cell_type": "code",
   "execution_count": 35,
   "metadata": {},
   "outputs": [
    {
     "data": {
      "text/plain": [
       "<matplotlib.image.AxesImage at 0x7f4b5a05d898>"
      ]
     },
     "execution_count": 35,
     "metadata": {},
     "output_type": "execute_result"
    },
    {
     "data": {
      "image/png": "[encoded data removed]",
      "text/plain": [
       "<Figure size 432x288 with 1 Axes>"
      ]
     },
     "metadata": {
      "needs_background": "light"
     },
     "output_type": "display_data"
    }
   ],
   "source": [
    "plt.imshow(x_reshape[2][5], cmap='Greys')"
   ]
  },
  {
   "cell_type": "code",
   "execution_count": null,
   "metadata": {},
   "outputs": [],
   "source": [
    "print(np.max(weighted_distance))\n",
    "print(np.min(weighted_distance))\n",
    "print(np.average(weighted_distance))\n",
    "print(np.std(weighted_distance))"
   ]
  },
  {
   "cell_type": "code",
   "execution_count": null,
   "metadata": {},
   "outputs": [],
   "source": [
    "out = output_membership_function(10, weighted_distance)\n",
    "print(np.max(out))\n",
    "print(np.min(out))"
   ]
  },
  {
   "cell_type": "code",
   "execution_count": null,
   "metadata": {},
   "outputs": [],
   "source": [
    "print(np.average(out))\n",
    "print(np.std(out))"
   ]
  },
  {
   "cell_type": "code",
   "execution_count": null,
   "metadata": {},
   "outputs": [],
   "source": [
    "x_train_new = []\n",
    "for i in x_train[1]:\n",
    "    x_train_new.append(i*255)\n",
    "    x_train_new.append(i*255)\n",
    "    x_train_new.append(i*255)\n",
    "x_train_new = np.array(x_train_new)\n",
    "x_train_new.shape\n",
    "x_train_fuzzy[1].shape\n",
    "for i in range(len(x_train_fuzzy[1])):\n",
    "    print(x_train_new[i], end =' ')\n",
    "    print(x_train_fuzzy[1][i])"
   ]
  },
  {
   "cell_type": "code",
   "execution_count": null,
   "metadata": {},
   "outputs": [],
   "source": [
    "print(y_train.shape)\n",
    "print(out.shape)"
   ]
  },
  {
   "cell_type": "code",
   "execution_count": null,
   "metadata": {},
   "outputs": [],
   "source": [
    "i = 50\n",
    "np.set_printoptions(suppress=True)\n",
    "plt.imshow(x_train[i].reshape(28, 28), cmap='Greys')\n",
    "print(y_train[i])\n",
    "print(y_train_fuzzy[i])"
   ]
  },
  {
   "cell_type": "code",
   "execution_count": null,
   "metadata": {
    "scrolled": true
   },
   "outputs": [],
   "source": [
    "weighted_distance, mean = output_normalize(x_train, y_train)\n",
    "out = output_membership_function(10, weighted_distance)\n",
    "i = 50\n",
    "np.set_printoptions(suppress=True)\n",
    "plt.imshow(x_train[i].reshape(28, 28), cmap='Greys')\n",
    "print(y_train[i])\n",
    "print(out[i])"
   ]
  },
  {
   "cell_type": "code",
   "execution_count": null,
   "metadata": {},
   "outputs": [],
   "source": [
    "i = 25\n",
    "np.set_printoptions(suppress=True)\n",
    "plt.imshow(x_train[i].reshape(28, 28), cmap='Greys')\n",
    "print(y_train[i])\n",
    "print(out[i])"
   ]
  },
  {
   "cell_type": "code",
   "execution_count": null,
   "metadata": {},
   "outputs": [],
   "source": [
    "maxout = np.max(out, axis = 1)"
   ]
  },
  {
   "cell_type": "code",
   "execution_count": null,
   "metadata": {},
   "outputs": [],
   "source": [
    "count = 0\n",
    "for i in maxout:\n",
    "    if i>=0.5:\n",
    "        count = count + 1"
   ]
  },
  {
   "cell_type": "code",
   "execution_count": null,
   "metadata": {},
   "outputs": [],
   "source": [
    "count"
   ]
  },
  {
   "cell_type": "code",
   "execution_count": null,
   "metadata": {},
   "outputs": [],
   "source": []
  }
 ],
 "metadata": {
  "kernelspec": {
   "display_name": "Python 3",
   "language": "python",
   "name": "python3"
  },
  "language_info": {
   "codemirror_mode": {
    "name": "ipython",
    "version": 3
   },
   "file_extension": ".py",
   "mimetype": "text/x-python",
   "name": "python",
   "nbconvert_exporter": "python",
   "pygments_lexer": "ipython3",
   "version": "3.6.7"
  }
 },
 "nbformat": 4,
 "nbformat_minor": 2
}
