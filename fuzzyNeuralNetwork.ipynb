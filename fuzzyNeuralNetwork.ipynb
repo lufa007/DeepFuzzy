{
 "cells": [
  {
   "cell_type": "code",
   "execution_count": 2,
   "metadata": {},
   "outputs": [],
   "source": [
    "#To use this on google colaboratory\n",
    "try:\n",
    "    from dnn_tf import dnn\n",
    "except:\n",
    "    !rm -f -r DeepFuzzy\n",
    "    !git clone https://github.com/tanishqjasoria/DeepFuzzy.git\n",
    "    import sys\n",
    "    sys.path.insert(0,'/content/DeepFuzzy')\n"
   ]
  },
  {
   "cell_type": "code",
   "execution_count": 1,
   "metadata": {},
   "outputs": [],
   "source": [
    "import matplotlib as plt\n",
    "from matplotlib.pyplot import imshow\n",
    "import numpy as np\n",
    "from random import sample\n",
    "import tensorflow.keras.datasets as datasets\n",
    "from dnn_tf import dnn\n",
    "import tensorflow as tf\n",
    "import math\n",
    "import matplotlib.pyplot as plt\n",
    "import time\n",
    "%matplotlib inline"
   ]
  },
  {
   "cell_type": "code",
   "execution_count": 2,
   "metadata": {},
   "outputs": [
    {
     "name": "stdout",
     "output_type": "stream",
     "text": [
      "Layers:  [784, 256, 10]\n",
      "Learning Rate:  0.01\n",
      "Number of MiniBatch:  128\n",
      "Iterations:  10000\n",
      "Layers:  [2352, 256, 10]\n",
      "Learning Rate:  0.01\n",
      "Number of MiniBatch:  128\n",
      "Iterations:  10000\n"
     ]
    }
   ],
   "source": [
    "#Parameters - To be defined by user\n",
    "nClass = 10\n",
    "nHidden = [256]\n",
    "nInput = 784\n",
    "layers = [nInput] + nHidden + [nClass]\n",
    "limit = 0.0001\n",
    "#Hyperparameters - To be tuned by the user\n",
    "learning_rate = 0.01\n",
    "nMiniBatch = 128\n",
    "nIter = 10000\n",
    "print(\"Layers: \", layers)\n",
    "print(\"Learning Rate: \", learning_rate)\n",
    "print(\"Number of MiniBatch: \", nMiniBatch)\n",
    "print(\"Iterations: \", nIter)\n",
    "\n",
    "#Parameters (for fuzzy)- To be defined by user\n",
    "nClass_fuzzy = 10\n",
    "nHidden_fuzzy = [256]\n",
    "nInput_fuzzy = 784 * 3\n",
    "layers_fuzzy = [nInput_fuzzy] + nHidden_fuzzy + [nClass_fuzzy]\n",
    "limit = 0.0001\n",
    "#Hyperparameters - To be tuned by the user\n",
    "learning_rate = 0.01\n",
    "nMiniBatch = 128\n",
    "nIter = 10000\n",
    "print(\"Layers: \", layers_fuzzy)\n",
    "print(\"Learning Rate: \", learning_rate)\n",
    "print(\"Number of MiniBatch: \", nMiniBatch)\n",
    "print(\"Iterations: \", nIter)"
   ]
  },
  {
   "cell_type": "code",
   "execution_count": 3,
   "metadata": {},
   "outputs": [],
   "source": [
    "#-------data input function-----------------------------#\n",
    "def getDataset(name, nClass):\n",
    "    if name==\"mnist\":\n",
    "        dataset = datasets.mnist\n",
    "    (x_train, y_train),(x_test, y_test) = dataset.load_data()     #downloading and loading the dataset\n",
    "    #x_train, x_test = x_train / 255.0, x_test / 255.0             #normalizing the input data\n",
    "    x_train_flat = x_train.reshape(x_train.shape[0],-1)         #making dataset suitable for input in Fully Connected layer\n",
    "    x_test_flat = x_test.reshape(x_test.shape[0],-1)          #making dataset suitable for input in Fully Connected layer\n",
    "    y_train_onehot = np.eye(nClass)[y_train]                    #converting to one hot vectors\n",
    "    y_test_onehot = np.eye(nClass)[y_test]                     #converting to one hot vectors\n",
    "    print(x_train_flat.shape)\n",
    "    print(y_train_onehot.shape)\n",
    "    x_train_batch = np.array_split(x_train_flat, int(60000/128))\n",
    "    print(x_train_batch[2].shape)\n",
    "    return x_train_flat,x_test_flat,y_train_onehot,y_test_onehot\n"
   ]
  },
  {
   "cell_type": "code",
   "execution_count": 4,
   "metadata": {},
   "outputs": [],
   "source": [
    "\"\"\"Input fuzzification methods\"\"\"\n",
    "def pi_membership_function(r,c,radius):\n",
    "    norm = abs(r-c)\n",
    "    if radius == 0:\n",
    "        return np.zeros(norm.shape)\n",
    "    else:\n",
    "        for i in range(len(r)):\n",
    "            if norm[i] <= radius and norm[i] >= radius/2:\n",
    "                norm[i] = (2*((1-norm[i]/radius)**2))\n",
    "            elif norm[i] < radius/2 and norm[i] >= 0:\n",
    "                norm[i] = (1 - 2*((norm[i]/radius)**2))\n",
    "            else:\n",
    "                norm[i] = 0\n",
    "    return norm\n",
    "\n",
    "def input_fuzzify(x_train):\n",
    "    fdenom = 2\n",
    "    F_max = np.array([255]*784)\n",
    "    F_min = np.array([0]*784)\n",
    "#     F_max = np.ndarray.max(x_train, axis = 0)\n",
    "#     F_min = np.ndarray.min(x_train, axis = 0)\n",
    "    lambda_medium = 0.5*(F_max - F_min)\n",
    "    c_medium = F_min + lambda_medium\n",
    "#     print(c_medium)\n",
    "    lambda_low = (1/fdenom)*(c_medium-F_min)\n",
    "#     print(lambda_low)\n",
    "    c_low = c_medium - 0.5 * lambda_low\n",
    "#     print(c_low)\n",
    "    lambda_high = (1/fdenom) * (F_max - c_medium)\n",
    "#     print(lambda_high)\n",
    "    c_high = c_medium + 0.5 * lambda_high\n",
    "#     print(c_high)\n",
    "    x_train = x_train.T\n",
    "#     print(x_train)\n",
    "    x_train_new = []\n",
    "    for i in range(len(F_max)):\n",
    "        x_train_new.append(pi_membership_function(x_train[i],c_low[i],lambda_low[i]))\n",
    "        x_train_new.append(pi_membership_function(x_train[i],c_medium[i],lambda_medium[i]))\n",
    "        x_train_new.append(pi_membership_function(x_train[i],c_high[i],lambda_high[i]))\n",
    "    return np.array(x_train_new)    \n",
    "\n",
    "\n",
    "\n",
    "\"\"\"Output fuzification functions\"\"\"\n",
    "def output_normalize(x_train, y_train):\n",
    "    mean = np.zeros((10,x_train.shape[1]))\n",
    "    standard_deviation = np.zeros((10, x_train.shape[1]))\n",
    "    no_of_belongings = np.zeros(10)\n",
    "    for i in range(x_train.shape[0]):\n",
    "        for j in range(y_train.shape[1]):\n",
    "            if(y_train[i][j]==1):\n",
    "                no_of_belongings[j] = no_of_belongings[j]+1\n",
    "                mean[j]= mean[j]+x_train[i]\n",
    "\n",
    "    print(mean.shape)\n",
    "    # print(mean[0][0:100])\n",
    "    for j in range(y_train.shape[1]):\n",
    "        mean[j] = mean[j]/no_of_belongings[j]\n",
    "    #     print(no_of_belongings[j])\n",
    "\n",
    "    # print(mean.shape)\n",
    "    # print(k)\n",
    "    # print(mean[0][0:100])\n",
    "    for i in range(x_train.shape[0]):\n",
    "        for j in range(y_train.shape[1]):\n",
    "            if(y_train[i][j]==1):\n",
    "                k = x_train[i] - mean[j]\n",
    "                k = np.square(k)\n",
    "                standard_deviation[j] = standard_deviation[j]+k\n",
    "\n",
    "    for j in range(y_train.shape[1]):\n",
    "        standard_deviation[j] = standard_deviation[j]/(no_of_belongings[j] - 1)\n",
    "        for i in range(len(standard_deviation[j])):\n",
    "            if standard_deviation[j][i] == 0:\n",
    "                standard_deviation[j][i] = 1\n",
    "            \n",
    "    standard_deviation = np.sqrt(standard_deviation)\n",
    "    print(standard_deviation.shape)\n",
    "    weighted_distance = np.zeros((x_train.shape[0],10))\n",
    "    for i in range(x_train.shape[0]):\n",
    "        for j in range(y_train.shape[1]):  #10\n",
    "            weighted_distance[i][j] = math.sqrt(np.sum(np.square(np.divide(x_train[i] - mean[j],standard_deviation[j]))))\n",
    "    return weighted_distance, mean\n",
    "\n",
    "def output_membership_function(n_class, pattern):\n",
    "    # out is an array on n_class dimension, containing membership of a feature vector to each class\n",
    "    denom_generator = 50\n",
    "    expo_generator = 2\n",
    "    out = pattern / denom_generator\n",
    "    out = np.power(out, expo_generator)\n",
    "    out = np.reciprocal(1 + out)\n",
    "    return out\n",
    "\n",
    "def membership_enhancement(membership):\n",
    "    if membership < 0.5:\n",
    "        enhc = 2 * np.power(membership, 2)\n",
    "    else:\n",
    "        enhc = 1 - np.power(1-membership, 2)\n",
    "    return enhc\n",
    "        \n",
    "def output_fuzzify(x_train, y_train):\n",
    "    #Normalize the output fot class membership\n",
    "    weighted_distance, _ = output_normalize(x_train, y_train)\n",
    "    #Get class memberships for each input pattern\n",
    "    membership = output_membership_function(10, weighted_distance)\n",
    "    #Enhance the membership values if needed (the membership values are too fuzzified)\n",
    "    enhanced_membership = membership\n",
    "    return enhanced_membership\n",
    "\n",
    "\"\"\"Fuzzification\"\"\"\n",
    "def fuzzify_dataset(x_train, x_test, y_train, y_test):\n",
    "    start = time.time()\n",
    "    x_train_fuzzy = input_fuzzify(x_train)\n",
    "    end = time.time()\n",
    "    print(\"Time taken to fuzzify - x_train :\", end = ' ')\n",
    "    print(end-start)\n",
    "    start = time.time()\n",
    "    x_test_fuzzy = input_fuzzify(x_test)\n",
    "    end = time.time()\n",
    "    print(\"Time taken to fuzzify - x_test :\", end = ' ')\n",
    "    print(end-start)\n",
    "    start = time.time()\n",
    "    y_train_fuzzy = output_fuzzify(x_train, y_train)\n",
    "    end = time.time()\n",
    "    print(\"Time taken to fuzzify - y_train :\", end = ' ')\n",
    "    print(end-start)\n",
    "    start = time.time()\n",
    "    y_test_fuzzy = y_test\n",
    "    end = time.time()\n",
    "    print(\"Time taken to fuzzify - y_train :\", end = ' ')\n",
    "    print(end-start)\n",
    "    return x_train_fuzzy.T, x_test_fuzzy.T, y_train_fuzzy, y_test_fuzzy\n",
    "    "
   ]
  },
  {
   "cell_type": "code",
   "execution_count": 5,
   "metadata": {},
   "outputs": [
    {
     "name": "stdout",
     "output_type": "stream",
     "text": [
      "(60000, 784)\n",
      "(60000, 10)\n",
      "(129, 784)\n"
     ]
    }
   ],
   "source": [
    "x_train, x_test, y_train, y_test = getDataset(\"mnist\", 10)\n",
    "#x_train_fuzzy, x_test_fuzzy, y_train_fuzzy, y_test_fuzzy = fuzzify_dataset(x_train, x_test, y_train, y_test)\n",
    "x_train_fuzzy = np.load(\"x_train_fuzzy.npy\")\n",
    "x_test_fuzzy = np.load(\"x_test_fuzzy.npy\")\n",
    "y_train_fuzzy = np.load(\"y_train_fuzzy.npy\")\n",
    "y_test_fuzzy = np.load(\"y_test_fuzzy.npy\")"
   ]
  },
  {
   "cell_type": "code",
   "execution_count": 26,
   "metadata": {},
   "outputs": [],
   "source": [
    "np.save(\"x_train_fuzzy\", x_train_fuzzy)\n",
    "np.save(\"x_test_fuzzy\", x_test_fuzzy)\n",
    "np.save(\"y_train_fuzzy\", y_train_fuzzy)\n",
    "np.save(\"y_test_fuzzy\", y_test_fuzzy)"
   ]
  },
  {
   "cell_type": "code",
   "execution_count": 6,
   "metadata": {},
   "outputs": [],
   "source": [
    "def main():\n",
    "    #x_train, x_test, y_train, y_test = getDataset(\"mnist\", nClass)\n",
    "    #test = dnn(layers, x_train, x_test, y_train, y_test, nMiniBatch, learning_rate=0.01, training_epochs=10)\n",
    "    test = dnn(layers_fuzzy, x_train_fuzzy, x_test_fuzzy, y_train_fuzzy, y_test_fuzzy, nMiniBatch, learning_rate=0.01, training_epochs=10)\n",
    "    print(layers_fuzzy)\n",
    "    test.initialize()\n",
    "    test.forwardProp()\n",
    "    test.train()\n",
    "    #test.test()"
   ]
  },
  {
   "cell_type": "code",
   "execution_count": 7,
   "metadata": {},
   "outputs": [
    {
     "name": "stdout",
     "output_type": "stream",
     "text": [
      "[2352, 256, 10]\n",
      "[2352, 256, 10]\n",
      "[2352, 256, 10]\n",
      "WARNING:tensorflow:From /usr/local/lib/python3.6/dist-packages/tensorflow/python/framework/op_def_library.py:263: colocate_with (from tensorflow.python.framework.ops) is deprecated and will be removed in a future version.\n",
      "Instructions for updating:\n",
      "Colocations handled automatically by placer.\n",
      "(?, 2352)\n",
      "(?, 10)\n",
      "WARNING:tensorflow:From /home/eurus/github/DeepFuzzy/dnn_tf.py:49: softmax_cross_entropy_with_logits (from tensorflow.python.ops.nn_ops) is deprecated and will be removed in a future version.\n",
      "Instructions for updating:\n",
      "\n",
      "Future major versions of TensorFlow will allow gradients to flow\n",
      "into the labels input on backprop by default.\n",
      "\n",
      "See `tf.nn.softmax_cross_entropy_with_logits_v2`.\n",
      "\n",
      "Epoch: 0001 cost= 3710.632946764\n",
      "Optimization Finished!\n",
      "Test Accuracy: 0.0974\n"
     ]
    }
   ],
   "source": [
    "print(layers_fuzzy)\n",
    "if __name__ == \"__main__\":\n",
    "    main()"
   ]
  },
  {
   "cell_type": "code",
   "execution_count": 1,
   "metadata": {},
   "outputs": [],
   "source": [
    "# IGNORE FOLLOWING CELLS AS THEY WERE/ARE USED FOR OPTIMIZATION"
   ]
  },
  {
   "cell_type": "code",
   "execution_count": null,
   "metadata": {},
   "outputs": [],
   "source": [
    "print(tf.__version__)"
   ]
  },
  {
   "cell_type": "code",
   "execution_count": null,
   "metadata": {},
   "outputs": [],
   "source": [
    "weighted_distance, mean = output_normalize(x_train, y_train)\n",
    "out = output_membership_function(10, weighted_distance)"
   ]
  },
  {
   "cell_type": "code",
   "execution_count": null,
   "metadata": {},
   "outputs": [],
   "source": [
    "plt.imshow(mean_reshape[4], cmap='Greys')"
   ]
  },
  {
   "cell_type": "code",
   "execution_count": null,
   "metadata": {},
   "outputs": [],
   "source": [
    "plt.imshow(x_train[99].reshape(28, 28), cmap='Greys')"
   ]
  },
  {
   "cell_type": "code",
   "execution_count": null,
   "metadata": {},
   "outputs": [],
   "source": [
    "print(np.max(weighted_distance))\n",
    "print(np.min(weighted_distance))\n",
    "print(np.average(weighted_distance))\n",
    "print(np.std(weighted_distance))"
   ]
  },
  {
   "cell_type": "code",
   "execution_count": null,
   "metadata": {},
   "outputs": [],
   "source": [
    "out = output_membership_function(10, weighted_distance)\n",
    "print(np.max(out))\n",
    "print(np.min(out))"
   ]
  },
  {
   "cell_type": "code",
   "execution_count": null,
   "metadata": {},
   "outputs": [],
   "source": [
    "print(np.average(out))\n",
    "print(np.std(out))"
   ]
  },
  {
   "cell_type": "code",
   "execution_count": null,
   "metadata": {},
   "outputs": [],
   "source": []
  }
 ],
 "metadata": {
  "kernelspec": {
   "display_name": "Python 3",
   "language": "python",
   "name": "python3"
  },
  "language_info": {
   "codemirror_mode": {
    "name": "ipython",
    "version": 3
   },
   "file_extension": ".py",
   "mimetype": "text/x-python",
   "name": "python",
   "nbconvert_exporter": "python",
   "pygments_lexer": "ipython3",
   "version": "3.6.7"
  }
 },
 "nbformat": 4,
 "nbformat_minor": 2
}
