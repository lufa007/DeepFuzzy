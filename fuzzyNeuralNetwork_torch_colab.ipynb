{
  "nbformat": 4,
  "nbformat_minor": 0,
  "metadata": {
    "kernelspec": {
      "display_name": "Python 3",
      "language": "python",
      "name": "python3"
    },
    "language_info": {
      "codemirror_mode": {
        "name": "ipython",
        "version": 3
      },
      "file_extension": ".py",
      "mimetype": "text/x-python",
      "name": "python",
      "nbconvert_exporter": "python",
      "pygments_lexer": "ipython3",
      "version": "3.7.4"
    },
    "colab": {
      "name": "fuzzyNeuralNetwork_torch.ipynb",
      "provenance": []
    }
  },
  "cells": [
    {
      "cell_type": "code",
      "metadata": {
        "id": "xhqVt05RfSfm",
        "colab_type": "code",
        "colab": {}
      },
      "source": [
        "#To use this on google colaboratory\n",
        "try:\n",
        "    import nn_fuzzy\n",
        "except:\n",
        "    !rm -f -r DeepFuzzy\n",
        "    !git clone https://github.com/tanishqjasoria/DeepFuzzy.git\n",
        "    import sys\n",
        "    sys.path.insert(0,'/content/DeepFuzzy')"
      ],
      "execution_count": 0,
      "outputs": []
    },
    {
      "cell_type": "code",
      "metadata": {
        "id": "56ejDdg0fSfy",
        "colab_type": "code",
        "colab": {}
      },
      "source": [
        "import numpy as np\n",
        "import torch\n",
        "import torchvision\n",
        "import torch.nn as nn\n",
        "import torch.nn.functional as F\n",
        "import torch.optim as optim\n",
        "import tensorflow.keras.datasets as datasets\n",
        "from torch_dataload import MyDataset\n",
        "from nn_fuzzy import fuzzify_dataset\n",
        "import matplotlib.pyplot as plt"
      ],
      "execution_count": 0,
      "outputs": []
    },
    {
      "cell_type": "code",
      "metadata": {
        "id": "V_bk3YKBfSf4",
        "colab_type": "code",
        "colab": {},
        "outputId": "2789fdb2-e761-4f5a-9bda-58ca20a8b2e7"
      },
      "source": [
        "#Parameters - To be defined by user\n",
        "nClass = 10\n",
        "nHidden = [256]\n",
        "nInput = 784\n",
        "layers = [nInput] + nHidden + [nClass]\n",
        "limit = 0.0001\n",
        "#Hyperparameters - To be tuned by the user\n",
        "learning_rate = 0.01\n",
        "nMiniBatch = 128\n",
        "nIter = 10000\n",
        "print(\"Layers: \", layers)\n",
        "print(\"Learning Rate: \", learning_rate)\n",
        "print(\"Number of MiniBatch: \", nMiniBatch)\n",
        "print(\"Iterations: \", nIter)\n",
        "\n",
        "#Parameters (for fuzzy)- To be defined by user\n",
        "nClass_fuzzy = 10\n",
        "nHidden_fuzzy = [256]\n",
        "nInput_fuzzy = 784 * 3\n",
        "layers_fuzzy = [nInput_fuzzy] + nHidden_fuzzy + [nClass_fuzzy]\n",
        "limit = 0.0001\n",
        "#Hyperparameters - To be tuned by the user\n",
        "learning_rate = 0.01\n",
        "nMiniBatch = 128\n",
        "nIter = 10000\n",
        "print(\"Layers: \", layers_fuzzy)\n",
        "print(\"Learning Rate: \", learning_rate)\n",
        "print(\"Number of MiniBatch: \", nMiniBatch)\n",
        "print(\"Iterations: \", nIter)\n",
        "\n",
        "#Parameters (for heart)- To be defined by user\n",
        "nClass_heart = 2\n",
        "nHidden_heart = [8]\n",
        "nInput_heart = 13 * 3\n",
        "layers_heart = [nInput_heart] + nHidden_heart + [nClass_heart]\n",
        "limit = 0.0001\n",
        "#Hyperparameters - To be tuned by the user\n",
        "learning_rate = 0.01\n",
        "nMiniBatch = 16\n",
        "nIter = 10000\n",
        "print(\"Layers: \", layers_heart)\n",
        "print(\"Learning Rate: \", learning_rate)\n",
        "print(\"Number of MiniBatch: \", nMiniBatch)\n",
        "print(\"Iterations: \", nIter)"
      ],
      "execution_count": 0,
      "outputs": [
        {
          "output_type": "stream",
          "text": [
            "Layers:  [784, 256, 10]\n",
            "Learning Rate:  0.01\n",
            "Number of MiniBatch:  128\n",
            "Iterations:  10000\n",
            "Layers:  [2352, 256, 10]\n",
            "Learning Rate:  0.01\n",
            "Number of MiniBatch:  128\n",
            "Iterations:  10000\n",
            "Layers:  [39, 8, 2]\n",
            "Learning Rate:  0.01\n",
            "Number of MiniBatch:  16\n",
            "Iterations:  10000\n"
          ],
          "name": "stdout"
        }
      ]
    },
    {
      "cell_type": "code",
      "metadata": {
        "id": "fRlWvdnrfSf_",
        "colab_type": "code",
        "colab": {},
        "outputId": "0f97f2d0-fa09-431f-a266-963151751642"
      },
      "source": [
        "#-------data input function-----------------------------#\n",
        "def getDataset(name, nClass):\n",
        "    if name==\"mnist\":\n",
        "        dataset = datasets.mnist\n",
        "    (x_train, y_train),(x_test, y_test) = dataset.load_data()     #downloading and loading the dataset\n",
        "    x_train, x_test = x_train, x_test            #normalizing the input data\n",
        "    x_train_flat = x_train.reshape(x_train.shape[0],-1)         #making dataset suitable for input in Fully Connected layer\n",
        "    x_test_flat = x_test.reshape(x_test.shape[0],-1)          #making dataset suitable for input in Fully Connected layer\n",
        "    y_train_onehot = np.eye(nClass)[y_train]                    #converting to one hot vectors\n",
        "    y_test_onehot = np.eye(nClass)[y_test]                     #converting to one hot vectors\n",
        "    print(x_train_flat.shape)\n",
        "    print(y_train_onehot.shape)\n",
        "    x_train_batch = np.array_split(x_train_flat, int(60000/128))\n",
        "    print(x_train_batch[2].shape)\n",
        "    return x_train_flat,x_test_flat,y_train_onehot,y_test_onehot\n",
        "\n",
        "x_train, x_test, y_train, y_test = getDataset(\"mnist\", 10)"
      ],
      "execution_count": 0,
      "outputs": [
        {
          "output_type": "stream",
          "text": [
            "(60000, 784)\n",
            "(60000, 10)\n",
            "(129, 784)\n"
          ],
          "name": "stdout"
        }
      ]
    },
    {
      "cell_type": "code",
      "metadata": {
        "id": "_WP2zOCUfSgD",
        "colab_type": "code",
        "colab": {},
        "outputId": "d043e42e-9955-4bef-81be-8dc318d86077"
      },
      "source": [
        "x_train_fuzzy, x_test_fuzzy, y_train_fuzzy, y_test_fuzzy = fuzzify_dataset(x_train, x_test, y_train, y_test, iid=1, cnn=1)"
      ],
      "execution_count": 0,
      "outputs": [
        {
          "output_type": "stream",
          "text": [
            "Time taken to fuzzify - x_train : 185.85029697418213\n",
            "Time taken to fuzzify - x_test : 28.829537391662598\n",
            "(10, 784)\n",
            "(10, 784)\n",
            "Time taken to fuzzify - y_train : 9.141692399978638\n",
            "Time taken to fuzzify - y_test : 2.384185791015625e-07\n"
          ],
          "name": "stdout"
        }
      ]
    },
    {
      "cell_type": "code",
      "metadata": {
        "id": "D6G9Gy8BfSg4",
        "colab_type": "code",
        "colab": {}
      },
      "source": [
        "np.save('x_train_fuzzy',x_train_fuzzy)\n",
        "np.save('x_test_fuzzy', x_test_fuzzy)\n",
        "np.save('y_train_fuzzy', y_train_fuzzy)\n",
        "np.save('y_test_fuzzy', y_test_fuzzy)"
      ],
      "execution_count": 0,
      "outputs": []
    },
    {
      "cell_type": "code",
      "metadata": {
        "id": "Fct1XCrMfSg9",
        "colab_type": "code",
        "colab": {}
      },
      "source": [
        "x_train_fuzzy = x_train_fuzzy.reshape(-1, 3, 28, 28)\n",
        "x_test_fuzzy = x_test_fuzzy.reshape(-1, 3, 28, 28)"
      ],
      "execution_count": 0,
      "outputs": []
    },
    {
      "cell_type": "code",
      "metadata": {
        "id": "UFn37-vsfShD",
        "colab_type": "code",
        "colab": {},
        "outputId": "2777cdf6-3ad3-45e9-cd05-46ade0eb8756"
      },
      "source": [
        "n_epochs = 3\n",
        "batch_size_train = 64\n",
        "batch_size_test = 1000\n",
        "learning_rate = 0.01\n",
        "momentum = 0.5\n",
        "log_interval = 10\n",
        "\n",
        "random_seed = 1\n",
        "torch.backends.cudnn.enabled = False\n",
        "torch.manual_seed(random_seed)"
      ],
      "execution_count": 0,
      "outputs": [
        {
          "output_type": "execute_result",
          "data": {
            "text/plain": [
              "<torch._C.Generator at 0x7f7080042ad0>"
            ]
          },
          "metadata": {
            "tags": []
          },
          "execution_count": 8
        }
      ]
    },
    {
      "cell_type": "code",
      "metadata": {
        "id": "aI7Fw_MwfShJ",
        "colab_type": "code",
        "colab": {},
        "outputId": "57862b91-a5fb-48e6-824d-37954cc7c971"
      },
      "source": [
        "index = 5\n",
        "plt.imshow(x_train[index].reshape(28,28), cmap='Greys')\n",
        "y_train_fuzzy[index]"
      ],
      "execution_count": 0,
      "outputs": [
        {
          "output_type": "execute_result",
          "data": {
            "text/plain": [
              "array([0.02338903, 0.00144004, 0.0749184 , 0.02306003, 0.00747646,\n",
              "       0.04009882, 0.0127191 , 0.00315317, 0.03124792, 0.00361206])"
            ]
          },
          "metadata": {
            "tags": []
          },
          "execution_count": 9
        },
        {
          "output_type": "display_data",
          "data": {
            "image/png": "[encoded data removed]",
            "text/plain": [
              "<Figure size 432x288 with 1 Axes>"
            ]
          },
          "metadata": {
            "tags": [],
            "needs_background": "light"
          }
        }
      ]
    },
    {
      "cell_type": "code",
      "metadata": {
        "id": "RqCRJZFifShM",
        "colab_type": "code",
        "colab": {},
        "outputId": "36881d29-60df-421d-ba46-bfe3d3a94140"
      },
      "source": [
        "plt.imshow(x_train_fuzzy[index][0].reshape(28,28), cmap='Greys')"
      ],
      "execution_count": 0,
      "outputs": [
        {
          "output_type": "execute_result",
          "data": {
            "text/plain": [
              "<matplotlib.image.AxesImage at 0x7f6fbf2f4690>"
            ]
          },
          "metadata": {
            "tags": []
          },
          "execution_count": 10
        },
        {
          "output_type": "display_data",
          "data": {
            "image/png": "[encoded data removed]",
            "text/plain": [
              "<Figure size 432x288 with 1 Axes>"
            ]
          },
          "metadata": {
            "tags": [],
            "needs_background": "light"
          }
        }
      ]
    },
    {
      "cell_type": "code",
      "metadata": {
        "id": "8viwE667fShQ",
        "colab_type": "code",
        "colab": {},
        "outputId": "1fe9982b-c5f8-4474-e520-6c68fb6312cc"
      },
      "source": [
        "plt.imshow(x_train_fuzzy[index][1].reshape(28,28), cmap='Greys')\n",
        "y_train_fuzzy[index]"
      ],
      "execution_count": 0,
      "outputs": [
        {
          "output_type": "execute_result",
          "data": {
            "text/plain": [
              "array([0.02338903, 0.00144004, 0.0749184 , 0.02306003, 0.00747646,\n",
              "       0.04009882, 0.0127191 , 0.00315317, 0.03124792, 0.00361206])"
            ]
          },
          "metadata": {
            "tags": []
          },
          "execution_count": 11
        },
        {
          "output_type": "display_data",
          "data": {
            "image/png": "[encoded data removed]",
            "text/plain": [
              "<Figure size 432x288 with 1 Axes>"
            ]
          },
          "metadata": {
            "tags": [],
            "needs_background": "light"
          }
        }
      ]
    },
    {
      "cell_type": "code",
      "metadata": {
        "id": "yAzZl0RcfShU",
        "colab_type": "code",
        "colab": {},
        "outputId": "837ea0c2-78e8-4184-9937-2e41205710e1"
      },
      "source": [
        "plt.imshow(x_train_fuzzy[index][2].reshape(28,28), cmap='Greys')\n",
        "y_train_fuzzy[index]"
      ],
      "execution_count": 0,
      "outputs": [
        {
          "output_type": "execute_result",
          "data": {
            "text/plain": [
              "array([0.02338903, 0.00144004, 0.0749184 , 0.02306003, 0.00747646,\n",
              "       0.04009882, 0.0127191 , 0.00315317, 0.03124792, 0.00361206])"
            ]
          },
          "metadata": {
            "tags": []
          },
          "execution_count": 12
        },
        {
          "output_type": "display_data",
          "data": {
            "image/png": "[encoded data removed]",
            "text/plain": [
              "<Figure size 432x288 with 1 Axes>"
            ]
          },
          "metadata": {
            "tags": [],
            "needs_background": "light"
          }
        }
      ]
    },
    {
      "cell_type": "code",
      "metadata": {
        "id": "CwVN4CoFfShX",
        "colab_type": "code",
        "colab": {}
      },
      "source": [
        "# trainset = MyDataset(x_train, x_test, y_train, y_test, train=True)\n",
        "trainset = MyDataset(x_train_fuzzy, x_test_fuzzy, y_train, y_test, train=True)\n",
        "trainloader = torch.utils.data.DataLoader(trainset, batch_size=batch_size_train, shuffle=True)\n",
        "\n",
        "# testset = MyDataset(x_train, x_test, y_train, y_test, train=False)\n",
        "testset = MyDataset(x_train_fuzzy, x_test_fuzzy, y_train, y_test, train=False)\n",
        "test_loader = torch.utils.data.DataLoader(testset, batch_size=batch_size_test, shuffle=True)"
      ],
      "execution_count": 0,
      "outputs": []
    },
    {
      "cell_type": "code",
      "metadata": {
        "id": "HUh0nBeXfShb",
        "colab_type": "code",
        "colab": {}
      },
      "source": [
        "class Net(nn.Module):\n",
        "    def __init__(self):\n",
        "        super(Net, self).__init__()\n",
        "        self.conv1 = nn.Conv2d(3, 20, 5, 1)\n",
        "        self.conv2 = nn.Conv2d(20, 50, 5, 1)\n",
        "        self.fc1 = nn.Linear(4*4*50, 500)\n",
        "        self.fc2 = nn.Linear(500, 10)\n",
        "\n",
        "    def forward(self, x):\n",
        "        x = x.reshape(-1, 3, 28, 28)\n",
        "        x = F.relu(self.conv1(x))\n",
        "        x = F.max_pool2d(x, 2, 2)\n",
        "        x = F.relu(self.conv2(x))\n",
        "        x = F.max_pool2d(x, 2, 2)\n",
        "        x = x.view(-1, 4*4*50)\n",
        "        x = F.relu(self.fc1(x))\n",
        "        x = self.fc2(x)\n",
        "        return F.log_softmax(x, dim=1)\n",
        "net = Net()"
      ],
      "execution_count": 0,
      "outputs": []
    },
    {
      "cell_type": "code",
      "metadata": {
        "id": "nT0lWNOOfShe",
        "colab_type": "code",
        "colab": {}
      },
      "source": [
        "criterion = nn.MultiLabelSoftMarginLoss()\n",
        "optimizer = optim.SGD(net.parameters(), lr=0.005, momentum=0.9)"
      ],
      "execution_count": 0,
      "outputs": []
    },
    {
      "cell_type": "code",
      "metadata": {
        "id": "BmXyynfZfShh",
        "colab_type": "code",
        "colab": {},
        "outputId": "6212e043-74c8-4f82-8941-3bc7588dbb10"
      },
      "source": [
        "for epoch in range(2): # loop over the dataset multiple times\n",
        "\n",
        "    running_loss = 0.0\n",
        "    for i, data in enumerate(trainloader, 0):\n",
        "        # get the inputs\n",
        "        inputs, labels = data\n",
        "\n",
        "        # zero the parameter gradients\n",
        "        optimizer.zero_grad()\n",
        "\n",
        "        # forward + backward + optimize\n",
        "        outputs = net(inputs)\n",
        "        loss = criterion(outputs, labels)\n",
        "        loss.backward()\n",
        "        optimizer.step()\n",
        "\n",
        "        # print statistics\n",
        "        running_loss += loss.item()\n",
        "        if i % 20 == 19:    # print every 2000 mini-batches\n",
        "            print('[%d, %5d] loss: %.3f' %\n",
        "                  (epoch + 1, i + 1, running_loss / 2000))\n",
        "            running_loss = 0.0\n",
        "\n",
        "print('Finished Training')"
      ],
      "execution_count": 0,
      "outputs": [
        {
          "output_type": "stream",
          "text": [
            "[1,    20] loss: 0.003\n",
            "[1,    40] loss: 0.003\n",
            "[1,    60] loss: 0.003\n",
            "[1,    80] loss: 0.003\n",
            "[1,   100] loss: 0.003\n",
            "[1,   120] loss: 0.003\n",
            "[1,   140] loss: 0.003\n",
            "[1,   160] loss: 0.003\n",
            "[1,   180] loss: 0.003\n",
            "[1,   200] loss: 0.003\n",
            "[1,   220] loss: 0.003\n",
            "[1,   240] loss: 0.003\n",
            "[1,   260] loss: 0.003\n",
            "[1,   280] loss: 0.003\n",
            "[1,   300] loss: 0.003\n",
            "[1,   320] loss: 0.003\n",
            "[1,   340] loss: 0.003\n",
            "[1,   360] loss: 0.003\n",
            "[1,   380] loss: 0.003\n",
            "[1,   400] loss: 0.003\n",
            "[1,   420] loss: 0.003\n",
            "[1,   440] loss: 0.003\n",
            "[1,   460] loss: 0.003\n",
            "[1,   480] loss: 0.003\n",
            "[1,   500] loss: 0.003\n",
            "[1,   520] loss: 0.003\n",
            "[1,   540] loss: 0.003\n",
            "[1,   560] loss: 0.003\n",
            "[1,   580] loss: 0.003\n",
            "[1,   600] loss: 0.003\n",
            "[1,   620] loss: 0.003\n",
            "[1,   640] loss: 0.003\n",
            "[1,   660] loss: 0.003\n",
            "[1,   680] loss: 0.003\n",
            "[1,   700] loss: 0.003\n",
            "[1,   720] loss: 0.003\n",
            "[1,   740] loss: 0.003\n",
            "[1,   760] loss: 0.003\n",
            "[1,   780] loss: 0.003\n",
            "[1,   800] loss: 0.003\n",
            "[1,   820] loss: 0.003\n",
            "[1,   840] loss: 0.003\n",
            "[1,   860] loss: 0.003\n",
            "[1,   880] loss: 0.003\n",
            "[1,   900] loss: 0.003\n",
            "[1,   920] loss: 0.003\n",
            "[2,    20] loss: 0.003\n",
            "[2,    40] loss: 0.003\n",
            "[2,    60] loss: 0.003\n",
            "[2,    80] loss: 0.003\n",
            "[2,   100] loss: 0.003\n",
            "[2,   120] loss: 0.002\n",
            "[2,   140] loss: 0.002\n",
            "[2,   160] loss: 0.002\n",
            "[2,   180] loss: 0.002\n",
            "[2,   200] loss: 0.002\n",
            "[2,   220] loss: 0.002\n",
            "[2,   240] loss: 0.002\n",
            "[2,   260] loss: 0.002\n",
            "[2,   280] loss: 0.002\n",
            "[2,   300] loss: 0.002\n",
            "[2,   320] loss: 0.002\n",
            "[2,   340] loss: 0.002\n",
            "[2,   360] loss: 0.001\n",
            "[2,   380] loss: 0.001\n",
            "[2,   400] loss: 0.001\n",
            "[2,   420] loss: 0.001\n",
            "[2,   440] loss: 0.001\n",
            "[2,   460] loss: 0.001\n",
            "[2,   480] loss: 0.001\n",
            "[2,   500] loss: 0.001\n",
            "[2,   520] loss: 0.001\n",
            "[2,   540] loss: 0.001\n",
            "[2,   560] loss: 0.001\n",
            "[2,   580] loss: 0.001\n",
            "[2,   600] loss: 0.001\n",
            "[2,   620] loss: 0.001\n",
            "[2,   640] loss: 0.001\n",
            "[2,   660] loss: 0.001\n",
            "[2,   680] loss: 0.001\n",
            "[2,   700] loss: 0.001\n",
            "[2,   720] loss: 0.001\n",
            "[2,   740] loss: 0.001\n",
            "[2,   760] loss: 0.001\n",
            "[2,   780] loss: 0.001\n",
            "[2,   800] loss: 0.001\n",
            "[2,   820] loss: 0.001\n",
            "[2,   840] loss: 0.001\n",
            "[2,   860] loss: 0.001\n",
            "[2,   880] loss: 0.001\n",
            "[2,   900] loss: 0.001\n",
            "[2,   920] loss: 0.001\n",
            "Finished Training\n"
          ],
          "name": "stdout"
        }
      ]
    },
    {
      "cell_type": "code",
      "metadata": {
        "id": "O0_Id8JPfShl",
        "colab_type": "code",
        "colab": {},
        "outputId": "03a2d5f9-59b9-4d09-8a27-7b991ed45f5a"
      },
      "source": [
        "correct = 0\n",
        "total = 0\n",
        "\n",
        "with torch.no_grad():\n",
        "    for data in test_loader:\n",
        "        images, labels = data\n",
        "        _, labels =  torch.max(labels,1)\n",
        "        outputs = net(images)\n",
        "        _, predicted = torch.max(outputs.data, 1)\n",
        "        total += labels.size(0)\n",
        "        correct += (predicted == labels).sum().item()\n",
        "\n",
        "print('Accuracy of the network on the 10000 test images: %d %%' % (100 * correct / total))"
      ],
      "execution_count": 0,
      "outputs": [
        {
          "output_type": "stream",
          "text": [
            "Accuracy of the network on the 10000 test images: 98 %\n"
          ],
          "name": "stdout"
        }
      ]
    },
    {
      "cell_type": "code",
      "metadata": {
        "id": "Ibl3KP_YfSho",
        "colab_type": "code",
        "colab": {}
      },
      "source": [
        "print(x_train_fuzzy[index][0].reshape(28,28))"
      ],
      "execution_count": 0,
      "outputs": []
    },
    {
      "cell_type": "code",
      "metadata": {
        "id": "zgx9_WsLfShs",
        "colab_type": "code",
        "colab": {}
      },
      "source": [
        "x_train[5]"
      ],
      "execution_count": 0,
      "outputs": []
    },
    {
      "cell_type": "code",
      "metadata": {
        "id": "G49H1L2LfShv",
        "colab_type": "code",
        "colab": {}
      },
      "source": [
        ""
      ],
      "execution_count": 0,
      "outputs": []
    }
  ]
}