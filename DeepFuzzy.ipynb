{
 "cells": [
  {
   "cell_type": "code",
   "execution_count": 1,
   "metadata": {},
   "outputs": [],
   "source": [
    "import numpy as np\n",
    "import tensorflow as tf"
   ]
  },
  {
   "cell_type": "code",
   "execution_count": 6,
   "metadata": {},
   "outputs": [],
   "source": [
    "def load_mnist():\n",
    "    mnist = tf.keras.datasets.mnist\n",
    "    (x_train, y_train),(x_test, y_test) = mnist.load_data()\n",
    "    x_train, x_test = x_train / 255.0, x_test / 255.0\n",
    "    nClass = 10\n",
    "    x_train_flat = x_train.reshape(x_train.shape[0],-1).T\n",
    "    x_test_flat = x_test.reshape(x_test.shape[0],-1).T\n",
    "    y_train_onehot = np.eye(nClass)[y_train]\n",
    "    y_test_onehot = np.eye(nClass)[y_test]\n",
    "    return x_train_flat, x_test_flat, y_train_onehot, y_test_onehot"
   ]
  },
  {
   "cell_type": "code",
   "execution_count": 7,
   "metadata": {},
   "outputs": [],
   "source": [
    "x_train, x_test, y_train, y_test = load_mnist()"
   ]
  },
  {
   "cell_type": "code",
   "execution_count": 8,
   "metadata": {},
   "outputs": [],
   "source": [
    "####### Utility Functions #########\n",
    "def sigmoid(Z):\n",
    "    A = 1/(1+np.exp(-Z))\n",
    "    return A\n",
    "\n",
    "def relu(Z):\n",
    "    A = np.maximum(0,Z)\n",
    "    return A\n",
    "\n",
    "def relu_backward(dA, cache):\n",
    "    Z = cache\n",
    "    dZ = np.array(dA, copy=True)\n",
    "    dZ[Z <= 0] = 0\n",
    "    return dZ\n",
    "\n",
    "def sigmoid_backward(dA, cache):\n",
    "    Z = cache\n",
    "    s = 1/(1+np.exp(-Z))\n",
    "    dZ = dA * s * (1-s)\n",
    "    return dZ"
   ]
  },
  {
   "cell_type": "code",
   "execution_count": 9,
   "metadata": {},
   "outputs": [],
   "source": [
    "##### Define Block ######\n",
    "layers = [[784,'relu'],[50, 'relu'],[12, 'relu'],[45, 'relu'],[10,'relu']]"
   ]
  },
  {
   "cell_type": "code",
   "execution_count": 24,
   "metadata": {},
   "outputs": [],
   "source": [
    "class deepfuzzy:\n",
    "    W = dict()\n",
    "    b = dict()\n",
    "    caches = []\n",
    "    grads = dict()\n",
    "    def __init__(self,layers, x_train,x_test,y_train,y_test):\n",
    "        self.layers = layers\n",
    "        self.x_train = x_train\n",
    "        self.x_test = x_test\n",
    "        self.y_train = y_train\n",
    "        self.y_test = y_test\n",
    "        self.L = len(layers)\n",
    "    def initialize(self, initializer = 'random'):\n",
    "        for i in range(1,self.L):\n",
    "            self.W[str(i)] = np.random.randn(self.layers[i][0],self.layers[i-1][0])\n",
    "            self.b[str(i)] = np.random.randn(self.layers[i][0],1)\n",
    "    ###FORWARD PROP###\n",
    "    @staticmethod\n",
    "    def forward(A,W,b):\n",
    "        Z = np.dot(W,A) + b\n",
    "        cache = (A, W, b)\n",
    "        return Z, cache\n",
    "    @staticmethod        \n",
    "    def forwardAct(A,W,b,activation = 'sigmoid'):\n",
    "        Z, linear_cache = deepfuzzy.forward(A,W,b)\n",
    "        activation_cache = Z\n",
    "        if activation == 'sigmoid':\n",
    "            A_next = sigmoid(Z)\n",
    "        if activation == 'relu':\n",
    "            A_next = relu(Z)\n",
    "        return A_next, (A_next, activation_cache)\n",
    "    \n",
    "    def forwardProp(self):\n",
    "        A = self.x_train\n",
    "        for i in range (1,self.L):\n",
    "            A, cache = deepfuzzy.forwardAct(A, self.W[str(i)], self.b[str(i)], activation = layers[i-1][1])\n",
    "            self.caches.append(cache)\n",
    "###SAVE WEIGHTS###\n",
    "    def saveWeights(self):\n",
    "        np.save('W.npy',  self.W)  \n",
    "        np.save('b.npy', self.b)\n",
    "        my_dict_back = np.load('my_dict.npy')\n",
    "        \n",
    "    def loadWeights(self):\n",
    "        self.W = np.load('W.npy')\n",
    "        self.b = np.load('b.npy')\n",
    "###BACKWARD PROP###\n",
    "    @staticmethod    \n",
    "    def backward(dZ, cache):\n",
    "        A_prev, W, b = cache\n",
    "        m = A_prev.shape[1]\n",
    "        dW = 1.0/m * dZ.dot(A_prev.T)\n",
    "        db = 1.0/m * np.sum(dZ,axis=1,keepdims=True)\n",
    "        dA_prev = W.T.dot(dZ)\n",
    "        return dA_prev, dW, db\n",
    "    @staticmethod\n",
    "    def backwardAct(dA, cache, activation):\n",
    "        linear_cache, activation_cache = cache\n",
    "        if activation == \"relu\":\n",
    "            dZ = relu_backward(dA, activation_cache)\n",
    "            dA_prev, dW, db = deepfuzzy.backward(dZ, linear_cache)\n",
    "        elif activation == \"sigmoid\":\n",
    "            dZ = sigmoid_backward(dA, activation_cache)\n",
    "            dA_prev, dW, db = deepfuzzy.backward(dZ, linear_cache)\n",
    "        return dA_prev, dW, db\n",
    "    \n",
    "    def backwardProp(self, AL, Y, caches):\n",
    "        L = self.L\n",
    "        m = AL.shape[1]\n",
    "        Y = Y.reshape(AL.shape) \n",
    "        dAL = - (np.divide(Y, AL) - np.divide(1 - Y, 1 - AL))\n",
    "        current_cache = self.caches[L-1]\n",
    "        self.grads[\"dA\" + str(L)], self.grads[\"dW\" + str(L)], self.grads[\"db\" + str(L)] = deepfuzzy.backwardAct(dAL, current_cache, \"sigmoid\")\n",
    "        for l in reversed(range(L-1)):\n",
    "            current_cache = self.caches[l]\n",
    "            dA_prev_temp, dW_temp, db_temp = deepfuzzy.backwardAct(self.grads[\"dA\"+str(l+2)], current_cache, \"relu\")\n",
    "            self.grads[\"dA\" + str(l + 1)] = dA_prev_temp\n",
    "            self.grads[\"dW\" + str(l + 1)] = dW_temp\n",
    "            self.grads[\"db\" + str(l + 1)] = db_temp\n",
    "\n",
    "    @staticmethod\n",
    "    def compute_cost(AL, Y):\n",
    "        m = Y.shape[1]\n",
    "        cost = (1./m) * (-np.dot(Y,np.log(AL).T) - np.dot(1-Y, np.log(1-AL).T))\n",
    "        cost = np.squeeze(cost) \n",
    "        return cost\n",
    "\n",
    "    def update_parameters(self,learning_rate):\n",
    "        for l in range(self.L):\n",
    "            self.W[str(l+1)] = self.W[str(l+1)] - learning_rate * self.grads[\"dW\" + str(l+1)]\n",
    "            self.b[str(l+1)] = self.b[str(l+1)] - learning_rate * self.grads[\"db\" + str(l+1)]\n",
    "            \n",
    "\n",
    "    def predict(self):\n",
    "            m = X.shape[1]\n",
    "            n = self.L\n",
    "            p = np.zeros((1,m))\n",
    "            probas, caches = L_model_forward()\n",
    "            for i in range(0, probas.shape[1]):\n",
    "                if probas[0,i] > 0.5:\n",
    "                    p[0,i] = 1\n",
    "                else:\n",
    "                    p[0,i] = 0\n",
    "            \n",
    "            #print results\n",
    "            #print (\"predictions: \" + str(p))\n",
    "            #print (\"true labels: \" + str(y))\n",
    "            print(\"Accuracy: \"  + str(np.sum((p == y)/m)))\n",
    "                \n",
    "            return p"
   ]
  },
  {
   "cell_type": "code",
   "execution_count": 25,
   "metadata": {},
   "outputs": [],
   "source": [
    "m = deepfuzzy(layers,x_train,x_test,y_train,y_test)"
   ]
  },
  {
   "cell_type": "code",
   "execution_count": 26,
   "metadata": {},
   "outputs": [],
   "source": [
    "m.initialize()"
   ]
  },
  {
   "cell_type": "code",
   "execution_count": 27,
   "metadata": {},
   "outputs": [],
   "source": [
    "m.forwardProp()"
   ]
  },
  {
   "cell_type": "code",
   "execution_count": null,
   "metadata": {},
   "outputs": [],
   "source": []
  }
 ],
 "metadata": {
  "kernelspec": {
   "display_name": "Python 3",
   "language": "python",
   "name": "python3"
  },
  "language_info": {
   "codemirror_mode": {
    "name": "ipython",
    "version": 3
   },
   "file_extension": ".py",
   "mimetype": "text/x-python",
   "name": "python",
   "nbconvert_exporter": "python",
   "pygments_lexer": "ipython3",
   "version": "3.5.2"
  }
 },
 "nbformat": 4,
 "nbformat_minor": 2
}
